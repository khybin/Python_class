{
  "nbformat": 4,
  "nbformat_minor": 0,
  "metadata": {
    "colab": {
      "provenance": []
    },
    "kernelspec": {
      "name": "python3",
      "display_name": "Python 3"
    },
    "language_info": {
      "name": "python"
    }
  },
  "cells": [
    {
      "cell_type": "code",
      "execution_count": null,
      "metadata": {
        "id": "mtUaYid0D7S5",
        "colab": {
          "base_uri": "https://localhost:8080/"
        },
        "outputId": "0137fa8a-b852-4f6f-ad29-04371be1f650"
      },
      "outputs": [
        {
          "output_type": "stream",
          "name": "stdout",
          "text": [
            "2 단\n",
            "2 * 1 = 2\n",
            "2 * 2 = 4\n",
            "2 * 3 = 6\n",
            "2 * 4 = 8\n",
            "2 * 5 = 10\n",
            "2 * 6 = 12\n",
            "2 * 7 = 14\n",
            "2 * 8 = 16\n",
            "2 * 9 = 18\n",
            "\n",
            "3 단\n",
            "3 * 1 = 3\n",
            "3 * 2 = 6\n",
            "3 * 3 = 9\n",
            "3 * 4 = 12\n",
            "3 * 5 = 15\n",
            "3 * 6 = 18\n",
            "3 * 7 = 21\n",
            "3 * 8 = 24\n",
            "3 * 9 = 27\n",
            "\n",
            "4 단\n",
            "4 * 1 = 4\n",
            "4 * 2 = 8\n",
            "4 * 3 = 12\n",
            "4 * 4 = 16\n",
            "4 * 5 = 20\n",
            "4 * 6 = 24\n",
            "4 * 7 = 28\n",
            "4 * 8 = 32\n",
            "4 * 9 = 36\n",
            "\n",
            "5 단\n",
            "5 * 1 = 5\n",
            "5 * 2 = 10\n",
            "5 * 3 = 15\n",
            "5 * 4 = 20\n",
            "5 * 5 = 25\n",
            "5 * 6 = 30\n",
            "5 * 7 = 35\n",
            "5 * 8 = 40\n",
            "5 * 9 = 45\n",
            "\n",
            "6 단\n",
            "6 * 1 = 6\n",
            "6 * 2 = 12\n",
            "6 * 3 = 18\n",
            "6 * 4 = 24\n",
            "6 * 5 = 30\n",
            "6 * 6 = 36\n",
            "6 * 7 = 42\n",
            "6 * 8 = 48\n",
            "6 * 9 = 54\n",
            "\n",
            "7 단\n",
            "7 * 1 = 7\n",
            "7 * 2 = 14\n",
            "7 * 3 = 21\n",
            "7 * 4 = 28\n",
            "7 * 5 = 35\n",
            "7 * 6 = 42\n",
            "7 * 7 = 49\n",
            "7 * 8 = 56\n",
            "7 * 9 = 63\n",
            "\n",
            "8 단\n",
            "8 * 1 = 8\n",
            "8 * 2 = 16\n",
            "8 * 3 = 24\n",
            "8 * 4 = 32\n",
            "8 * 5 = 40\n",
            "8 * 6 = 48\n",
            "8 * 7 = 56\n",
            "8 * 8 = 64\n",
            "8 * 9 = 72\n",
            "\n",
            "9 단\n",
            "9 * 1 = 9\n",
            "9 * 2 = 18\n",
            "9 * 3 = 27\n",
            "9 * 4 = 36\n",
            "9 * 5 = 45\n",
            "9 * 6 = 54\n",
            "9 * 7 = 63\n",
            "9 * 8 = 72\n",
            "9 * 9 = 81\n",
            "\n"
          ]
        }
      ],
      "source": [
        "# range(시작값, 끝값, 증감값) 순서 : 시작값 -> 시작값+증감값 -> 시작값+증감값+증감값 < 끝값\n",
        "# (시작값, 끝값) : 증감값 = +1\n",
        "# (끝값) : 시작값 : 0. 증감값 = +1 # 0, 1, 2 ... 끝값-1 # 끝값 만큼 반복\n",
        "for dan in range(2, 10) : # i = 2,3, ... 9\n",
        "    print(dan, \"단\")\n",
        "    for hang in range(1, 10) : # hang = 2,3, ... 9\n",
        "        print(dan, '*', hang, '=', dan * hang)\n",
        "    print()"
      ]
    },
    {
      "cell_type": "code",
      "source": [
        "dan = 2\n",
        "hang = 1\n",
        "while dan  < 10 :\n",
        "    hang = 1\n",
        "    print(dan, '단')\n",
        "    while hang < 10 :\n",
        "        print(dan, '*', hang, '=', dan*hang)\n",
        "        hang += 1\n",
        "    dan += 1\n",
        "    print()"
      ],
      "metadata": {
        "colab": {
          "base_uri": "https://localhost:8080/"
        },
        "id": "T7MfJy8lKZl6",
        "outputId": "3af3cec2-f519-495a-dab1-d35ba6eb48fc"
      },
      "execution_count": null,
      "outputs": [
        {
          "output_type": "stream",
          "name": "stdout",
          "text": [
            "2 단\n",
            "2 * 1 = 2\n",
            "2 * 2 = 4\n",
            "2 * 3 = 6\n",
            "2 * 4 = 8\n",
            "2 * 5 = 10\n",
            "2 * 6 = 12\n",
            "2 * 7 = 14\n",
            "2 * 8 = 16\n",
            "2 * 9 = 18\n",
            "\n",
            "3 단\n",
            "3 * 1 = 3\n",
            "3 * 2 = 6\n",
            "3 * 3 = 9\n",
            "3 * 4 = 12\n",
            "3 * 5 = 15\n",
            "3 * 6 = 18\n",
            "3 * 7 = 21\n",
            "3 * 8 = 24\n",
            "3 * 9 = 27\n",
            "\n",
            "4 단\n",
            "4 * 1 = 4\n",
            "4 * 2 = 8\n",
            "4 * 3 = 12\n",
            "4 * 4 = 16\n",
            "4 * 5 = 20\n",
            "4 * 6 = 24\n",
            "4 * 7 = 28\n",
            "4 * 8 = 32\n",
            "4 * 9 = 36\n",
            "\n",
            "5 단\n",
            "5 * 1 = 5\n",
            "5 * 2 = 10\n",
            "5 * 3 = 15\n",
            "5 * 4 = 20\n",
            "5 * 5 = 25\n",
            "5 * 6 = 30\n",
            "5 * 7 = 35\n",
            "5 * 8 = 40\n",
            "5 * 9 = 45\n",
            "\n",
            "6 단\n",
            "6 * 1 = 6\n",
            "6 * 2 = 12\n",
            "6 * 3 = 18\n",
            "6 * 4 = 24\n",
            "6 * 5 = 30\n",
            "6 * 6 = 36\n",
            "6 * 7 = 42\n",
            "6 * 8 = 48\n",
            "6 * 9 = 54\n",
            "\n",
            "7 단\n",
            "7 * 1 = 7\n",
            "7 * 2 = 14\n",
            "7 * 3 = 21\n",
            "7 * 4 = 28\n",
            "7 * 5 = 35\n",
            "7 * 6 = 42\n",
            "7 * 7 = 49\n",
            "7 * 8 = 56\n",
            "7 * 9 = 63\n",
            "\n",
            "8 단\n",
            "8 * 1 = 8\n",
            "8 * 2 = 16\n",
            "8 * 3 = 24\n",
            "8 * 4 = 32\n",
            "8 * 5 = 40\n",
            "8 * 6 = 48\n",
            "8 * 7 = 56\n",
            "8 * 8 = 64\n",
            "8 * 9 = 72\n",
            "\n",
            "9 단\n",
            "9 * 1 = 9\n",
            "9 * 2 = 18\n",
            "9 * 3 = 27\n",
            "9 * 4 = 36\n",
            "9 * 5 = 45\n",
            "9 * 6 = 54\n",
            "9 * 7 = 63\n",
            "9 * 8 = 72\n",
            "9 * 9 = 81\n",
            "\n"
          ]
        }
      ]
    },
    {
      "cell_type": "code",
      "source": [
        "for i in range(1, 6) :\n",
        "    for j in range(i) :\n",
        "        print(\"*\", end = '')\n",
        "    print()"
      ],
      "metadata": {
        "colab": {
          "base_uri": "https://localhost:8080/"
        },
        "id": "2eDKzgElND3d",
        "outputId": "ab5120c6-2cc9-4bd7-d33d-b5a0228efd8b"
      },
      "execution_count": null,
      "outputs": [
        {
          "output_type": "stream",
          "name": "stdout",
          "text": [
            "*\n",
            "**\n",
            "***\n",
            "****\n",
            "*****\n"
          ]
        }
      ]
    },
    {
      "cell_type": "code",
      "source": [
        "k = 7\n",
        "for i in range(1, 8) :\n",
        "    for j in range(1, 8) :\n",
        "        if i == j or j == k :\n",
        "            print('*', end = '')\n",
        "        else :\n",
        "            print(' ', end = '')\n",
        "    k -= 1\n",
        "    print()"
      ],
      "metadata": {
        "colab": {
          "base_uri": "https://localhost:8080/"
        },
        "id": "RIZpvz6YOXcV",
        "outputId": "8563861b-a11d-4d07-c86a-8067b0656a5a"
      },
      "execution_count": null,
      "outputs": [
        {
          "output_type": "stream",
          "name": "stdout",
          "text": [
            "*     *\n",
            " *   * \n",
            "  * *  \n",
            "   *   \n",
            "  * *  \n",
            " *   * \n",
            "*     *\n"
          ]
        }
      ]
    },
    {
      "cell_type": "code",
      "source": [
        "for i in range(5) :\n",
        "    for j in range(4-i) :\n",
        "        print(' ', end = '')\n",
        "    for j in range(i+1) :\n",
        "        print('*', end = '')\n",
        "    print()"
      ],
      "metadata": {
        "colab": {
          "base_uri": "https://localhost:8080/"
        },
        "id": "6tQrZILqVEqV",
        "outputId": "bbe30537-50ca-480d-9ded-1dc9b2cd8410"
      },
      "execution_count": null,
      "outputs": [
        {
          "output_type": "stream",
          "name": "stdout",
          "text": [
            "    *\n",
            "   **\n",
            "  ***\n",
            " ****\n",
            "*****\n"
          ]
        }
      ]
    },
    {
      "cell_type": "code",
      "source": [
        "n = int(input('수 입력 : '))\n",
        "count = 0\n",
        "for i in range(2, n+1) : # 2부터 입력한 수 n까지 소수인지 아닌지 검사\n",
        "    prime = True # i가 소수임을 전제로 시작\n",
        "    for j in range(2, i) : # 현재 수(i)가 소수인지 검사 (2부터 (나 자신 - 1) 로 다 나누어봤을 때 나누어 떨어지는게 없다/있다.)\n",
        "        if i % j == 0 : # 현재 수(i)가 j로 나누어 떨어짐\n",
        "            prime = False # 소수가 아님\n",
        "            break\n",
        "    if prime : # 소수만 출력\n",
        "        print('%5d' %i, end = '')\n",
        "        count += 1\n",
        "        if count % 5 == 0 :\n",
        "            print()"
      ],
      "metadata": {
        "colab": {
          "base_uri": "https://localhost:8080/"
        },
        "id": "2OoWs_VTh6np",
        "outputId": "4a829ea0-50dd-4495-b810-72f3298ac326"
      },
      "execution_count": null,
      "outputs": [
        {
          "output_type": "stream",
          "name": "stdout",
          "text": [
            "수 입력 : 50\n",
            "    2    3    5    7   11\n",
            "   13   17   19   23   29\n",
            "   31   37   41   43   47\n"
          ]
        }
      ]
    },
    {
      "cell_type": "code",
      "source": [
        "color = ['red', 'blue', 'green']"
      ],
      "metadata": {
        "id": "_8-DGirJm7DZ"
      },
      "execution_count": null,
      "outputs": []
    },
    {
      "cell_type": "code",
      "source": [
        "price = [500, 5000, 8900, 1800, 2500]\n",
        "fruit = ['사과', '파인애플', '수박']\n",
        "\n",
        "print(price, end = ' ')\n",
        "print(type(price))\n",
        "\n",
        "print(fruit, end = ' ')\n",
        "print(type(fruit))"
      ],
      "metadata": {
        "colab": {
          "base_uri": "https://localhost:8080/"
        },
        "id": "eJFrX-AWnr7c",
        "outputId": "0504aacb-9764-4d5b-86d8-fb2e8379bce8"
      },
      "execution_count": null,
      "outputs": [
        {
          "output_type": "stream",
          "name": "stdout",
          "text": [
            "[500, 5000, 8900, 1800, 2500] <class 'list'>\n",
            "['사과', '파인애플', '수박'] <class 'list'>\n"
          ]
        }
      ]
    },
    {
      "cell_type": "code",
      "source": [
        "fruitprice = ['사과', 1500, '수박', 8900]\n",
        "print(fruitprice)\n",
        "print(type(fruitprice[0]), end = ' ')\n",
        "print(type(fruitprice[1]), end = ' ')\n",
        "print(type(fruitprice[2]), end = ' ')\n",
        "print(type(fruitprice[3]), end = ' ')"
      ],
      "metadata": {
        "colab": {
          "base_uri": "https://localhost:8080/"
        },
        "id": "WPTZm_78oShj",
        "outputId": "3ff68c2d-5fa2-46bd-b6c0-c8a7fa788340"
      },
      "execution_count": null,
      "outputs": [
        {
          "output_type": "stream",
          "name": "stdout",
          "text": [
            "['사과', 1500, '수박', 8900]\n",
            "<class 'str'> <class 'int'> <class 'str'> <class 'int'> "
          ]
        }
      ]
    },
    {
      "cell_type": "code",
      "source": [
        "a = []\n",
        "b = list()\n",
        "print(type(a), end = ' ')\n",
        "print(type(b))"
      ],
      "metadata": {
        "colab": {
          "base_uri": "https://localhost:8080/"
        },
        "id": "jr5c0aiMovhw",
        "outputId": "ffe80ed5-829c-4c9b-a689-153f3f584313"
      },
      "execution_count": null,
      "outputs": [
        {
          "output_type": "stream",
          "name": "stdout",
          "text": [
            "<class 'list'> <class 'list'>\n"
          ]
        }
      ]
    },
    {
      "cell_type": "code",
      "source": [
        "num = list(range(1,21,2))\n",
        "print(num)\n",
        "print(type(num))\n",
        "\n",
        "a = list(\"Korea\")\n",
        "print(a)\n",
        "print(type(a))"
      ],
      "metadata": {
        "colab": {
          "base_uri": "https://localhost:8080/"
        },
        "id": "qXrsZ0qmo48Y",
        "outputId": "9698d405-737a-4fbc-caca-3bc04071b2f8"
      },
      "execution_count": null,
      "outputs": [
        {
          "output_type": "stream",
          "name": "stdout",
          "text": [
            "[1, 3, 5, 7, 9, 11, 13, 15, 17, 19]\n",
            "<class 'list'>\n",
            "['K', 'o', 'r', 'e', 'a']\n",
            "<class 'list'>\n"
          ]
        }
      ]
    },
    {
      "cell_type": "code",
      "source": [
        "print(len(num))\n",
        "print(len(a))"
      ],
      "metadata": {
        "colab": {
          "base_uri": "https://localhost:8080/"
        },
        "id": "3oct9vTjpfuN",
        "outputId": "ffa6c42d-ca30-403d-fbf7-97016b684360"
      },
      "execution_count": null,
      "outputs": [
        {
          "output_type": "stream",
          "name": "stdout",
          "text": [
            "10\n",
            "5\n"
          ]
        }
      ]
    }
  ]
}