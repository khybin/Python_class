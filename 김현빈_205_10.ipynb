{
  "nbformat": 4,
  "nbformat_minor": 0,
  "metadata": {
    "colab": {
      "provenance": [],
      "include_colab_link": true
    },
    "kernelspec": {
      "name": "python3",
      "display_name": "Python 3"
    },
    "language_info": {
      "name": "python"
    }
  },
  "cells": [
    {
      "cell_type": "markdown",
      "metadata": {
        "id": "view-in-github",
        "colab_type": "text"
      },
      "source": [
        "<a href=\"https://colab.research.google.com/github/khybin/Python_class/blob/master/%EA%B9%80%ED%98%84%EB%B9%88_205_10.ipynb\" target=\"_parent\"><img src=\"https://colab.research.google.com/assets/colab-badge.svg\" alt=\"Open In Colab\"/></a>"
      ]
    },
    {
      "cell_type": "code",
      "source": [
        "score = [ [88, 76, 92, 98],     # score[0] 총점, 평균\n",
        "          [65, 70, 58, 82],     # score[1] 총점, 평균\n",
        "          [82, 80, 78, 88] ]    # score[2] 총점, 평균\n",
        "        # 총점(total), 평균\n",
        "total = 0   # 모든 학생의 점수 합\n",
        "totalsub = 0    # 모든 학생 과목 수\n",
        "# (1) 리스트를 컬렉션으로 이용\n",
        "for student in score :  # 반복맏 현민, 승혜, 이준의 점수를 student로 읽어옴\n",
        "    sum = 0\n",
        "    for subject in student :  \n",
        "        sum += subject  # (((0+국어점수)+수학점수)+정보점수)+과학점수\n",
        "    number = len(student)   # 한 학생의 과목 수\n",
        "    print('총점:', sum, '평균:', sum/number)\n",
        "    total += sum    # ((0+현민총점)+승혜총점)+이준총점\n",
        "    totalsub += number\n",
        "print('전체평균:', total/totalsub)"
      ],
      "metadata": {
        "colab": {
          "base_uri": "https://localhost:8080/"
        },
        "id": "0Ku-R42CeZ6J",
        "outputId": "5b29dd8d-ed08-4a89-ce3a-0fa81b3c1e8c"
      },
      "execution_count": 5,
      "outputs": [
        {
          "output_type": "stream",
          "name": "stdout",
          "text": [
            "총점: 354 평균: 88.5\n",
            "총점: 275 평균: 68.75\n",
            "총점: 328 평균: 82.0\n",
            "전체평균: 79.75\n"
          ]
        }
      ]
    },
    {
      "cell_type": "code",
      "execution_count": 3,
      "metadata": {
        "id": "N0UsZDvSLpyK",
        "colab": {
          "base_uri": "https://localhost:8080/"
        },
        "outputId": "7c432da7-fc6e-49a2-f9e9-785ed067af42"
      },
      "outputs": [
        {
          "output_type": "stream",
          "name": "stdout",
          "text": [
            "총점: 354 평균: 88.5\n",
            "총점: 275 평균: 68.75\n",
            "총점: 328 평균: 82.0\n",
            "전체평균: 79.75\n"
          ]
        }
      ],
      "source": [
        "score = [ [88, 76, 92, 98],     # score[0] 총점, 평균\n",
        "          [65, 70, 58, 82],     # score[1] 총점, 평균\n",
        "          [82, 80, 78, 88] ]    # score[2] 총점, 평균\n",
        "        # 총점(total), 평균\n",
        "total = 0   # 모든 학생의 점수 합\n",
        "totalsub = 0    # 모든 학생 과목 수\n",
        "# (2) 인덱스를 이용 [i][j]\n",
        "for student in range(len(score)) :  # student = 0, 1, 2 --- [0][1][2]\n",
        "    sum = 0\n",
        "    # score[student]의 총점, 평균\n",
        "    # score[0][0]~score[0][3], score[1][0]~score[1][3], score[2][0]~score[2][3]...\n",
        "    for subject in range(len(score[student])) :  \n",
        "        sum += score[student][subject]  # (((0+국어점수)+수학점수)+정보점수)+과학점수\n",
        "    number = len(score[student])   # 한 학생의 과목 수\n",
        "    print('총점:', sum, '평균:', sum/number)\n",
        "    total += sum    # ((0+현민총점)+승혜총점)+이준총점\n",
        "    totalsub += number\n",
        "print('전체평균:', total/totalsub)"
      ]
    },
    {
      "cell_type": "code",
      "source": [
        "# ex1)\n",
        "s = \"python\"\n",
        "print(s[0])\n",
        "print(s[-1])"
      ],
      "metadata": {
        "colab": {
          "base_uri": "https://localhost:8080/"
        },
        "id": "DPHqQ8uif7dm",
        "outputId": "0849a79a-665e-435b-a904-e5016428786f"
      },
      "execution_count": 6,
      "outputs": [
        {
          "output_type": "stream",
          "name": "stdout",
          "text": [
            "p\n",
            "n\n"
          ]
        }
      ]
    },
    {
      "cell_type": "code",
      "source": [
        "# ex2)\n",
        "s = \"python\"\n",
        "# print(s[10])\n",
        "\n",
        "print('\\033[31m' + '---------------------------------------------------------------------------' + '\\033[0m')\n",
        "print('\\033[31m' + 'IndexError' + '\\033[0m' + '                                ' + 'Traceback (most recent call last)')\n",
        "print('\\033[4m' + '\\033[96m' + '<ipython-input-7-05f39d9ba481>' + '\\033[0m' + '\\033[0m' + ' in ' + '\\033[36m' + '<cell line: 3>()' + '\\033[0m')\n",
        "print('      ' + '1' + '# ex2)')\n",
        "print('      2 s = \"python\"')\n",
        "print('----> 3 print(s[10])')\n",
        "print()\n",
        "print('IndexError: string index out of range')"
      ],
      "metadata": {
        "colab": {
          "base_uri": "https://localhost:8080/"
        },
        "id": "gtWVByYTgFMp",
        "outputId": "130d189b-c25b-48b4-a4b8-66758aee8e67"
      },
      "execution_count": 18,
      "outputs": [
        {
          "output_type": "stream",
          "name": "stdout",
          "text": [
            "\u001b[31m---------------------------------------------------------------------------\u001b[0m\n",
            "\u001b[31mIndexError\u001b[0m                                Traceback (most recent call last)\n",
            "\u001b[4m\u001b[96m<ipython-input-7-05f39d9ba481>\u001b[0m\u001b[0m in \u001b[36m<cell line: 3>()\u001b[0m\n",
            "      1 # ex2)\n",
            "      2 s = \"python\"\n",
            "----> 3 print(s[10])\n",
            "\n",
            "IndexError: string index out of range\n"
          ]
        }
      ]
    },
    {
      "cell_type": "code",
      "source": [
        "# ex3)\n",
        "S1 = input('첫번째 문자열:')\n",
        "S2 = input('두번째 문자열:')\n",
        "S3 = input('세번째 문자열:')\n",
        "\n",
        "if S1[-1] == S2[0] and S2[-1] == S3[0] and S3[-1] == S1[0] :\n",
        "    print('good')\n",
        "else :\n",
        "    print('bad')"
      ],
      "metadata": {
        "colab": {
          "base_uri": "https://localhost:8080/"
        },
        "id": "tknNMjwKijNg",
        "outputId": "8dbc5b3e-892d-44be-cb85-933ba47f0c19"
      },
      "execution_count": 20,
      "outputs": [
        {
          "output_type": "stream",
          "name": "stdout",
          "text": [
            "첫번째 문자열:apple\n",
            "두번째 문자열:radio\n",
            "세번째 문자열:life\n",
            "bad\n"
          ]
        }
      ]
    },
    {
      "cell_type": "code",
      "source": [
        "# ex4)\n",
        "s = \"python\"\n",
        "for c in s :\n",
        "    print(c, end = ',')\n",
        "\n",
        "print()"
      ],
      "metadata": {
        "colab": {
          "base_uri": "https://localhost:8080/"
        },
        "id": "JIfNrwY5kEre",
        "outputId": "3a864fd9-8c24-493d-f177-47f76d562f70"
      },
      "execution_count": 21,
      "outputs": [
        {
          "output_type": "stream",
          "name": "stdout",
          "text": [
            "p,y,t,h,o,n,\n"
          ]
        }
      ]
    },
    {
      "cell_type": "code",
      "source": [
        "# ex5)\n",
        "number = input('하이픈(-)을 포함한 휴대폰 번호를 인력하세요: ')\n",
        "\n",
        "for hyphen in number :\n",
        "    if hyphen != '-' :\n",
        "        print(hyphen, end = '')"
      ],
      "metadata": {
        "colab": {
          "base_uri": "https://localhost:8080/"
        },
        "id": "ox0OxLkukZIj",
        "outputId": "c28df8e3-42a1-439b-9a49-69209420985c"
      },
      "execution_count": 24,
      "outputs": [
        {
          "output_type": "stream",
          "name": "stdout",
          "text": [
            "하이픈(-)을 포함한 휴대폰 번호를 인력하세요: 010-9050-1177\n",
            "01090501177"
          ]
        }
      ]
    },
    {
      "cell_type": "code",
      "source": [
        "# ex6)\n",
        "s = \"python\"\n",
        "print(len(s))\n",
        "n = \"여섯글자이다\"\n",
        "print(len(n))"
      ],
      "metadata": {
        "colab": {
          "base_uri": "https://localhost:8080/"
        },
        "id": "4LQzoKdZlqCX",
        "outputId": "da860e91-5b9f-46eb-c433-b49d53194295"
      },
      "execution_count": 26,
      "outputs": [
        {
          "output_type": "stream",
          "name": "stdout",
          "text": [
            "6\n",
            "6\n"
          ]
        }
      ]
    },
    {
      "cell_type": "code",
      "source": [
        "# ex7)\n",
        "sentence = input(\"문자열 입력:\")\n",
        "\n",
        "for execute in range(len(sentence)) :\n",
        "    if sentence[execute] == 't' :\n",
        "        print(execute + 1, end = ' ')"
      ],
      "metadata": {
        "colab": {
          "base_uri": "https://localhost:8080/"
        },
        "id": "3LHJmZIYmCN9",
        "outputId": "cc9066f0-c999-4d35-a40b-cbe49bdd8209"
      },
      "execution_count": 30,
      "outputs": [
        {
          "output_type": "stream",
          "name": "stdout",
          "text": [
            "문자열 입력:test\n",
            "1 4 "
          ]
        }
      ]
    },
    {
      "cell_type": "code",
      "source": [
        "# ex8)\n",
        "sentence = input('문장을 입력해 주세요 : ')\n",
        "\n",
        "i = 0\n",
        "while i < len(sentence) :\n",
        "    if sentence[i] == ' ' :\n",
        "        print('-', end = '')\n",
        "    else :\n",
        "        print(sentence[(i+1)*-1], end = '')\n",
        "    i+=1"
      ],
      "metadata": {
        "colab": {
          "base_uri": "https://localhost:8080/"
        },
        "id": "zZoYqWfUnjL-",
        "outputId": "b9b7217d-78a7-4f65-d3c4-1a734256e249"
      },
      "execution_count": 55,
      "outputs": [
        {
          "output_type": "stream",
          "name": "stdout",
          "text": [
            "문장을 입력해 주세요 : Enjoy your life!\n",
            "!efil-ruoy-yojnE"
          ]
        }
      ]
    },
    {
      "cell_type": "code",
      "source": [
        "# ex8_1)\n",
        "sentence = input('문장을 입력해 주세요: ')\n",
        "i = len(sentence)-1 # 끝에서 시작\n",
        "while i >= 0 :\n",
        "    if sentence[i] == ' ' :\n",
        "        print('-', end = '')\n",
        "    else :\n",
        "        print(sentence[i], end = '')\n",
        "    i-=1"
      ],
      "metadata": {
        "colab": {
          "base_uri": "https://localhost:8080/"
        },
        "id": "-v6karBPx3Uh",
        "outputId": "efb2c48c-d588-4285-a4cf-54cf12658a7f"
      },
      "execution_count": 87,
      "outputs": [
        {
          "output_type": "stream",
          "name": "stdout",
          "text": [
            "문장을 입력해 주세요: Enjoy your life!\n",
            "!efil-ruoy-yojnE"
          ]
        }
      ]
    },
    {
      "cell_type": "code",
      "source": [
        "# ex9)\n",
        "data = input(\"문자열 입력: \")\n",
        "\n",
        "for i in range(len(data) - 1) :\n",
        "    print(data[i], data[i+1], sep ='')"
      ],
      "metadata": {
        "colab": {
          "base_uri": "https://localhost:8080/"
        },
        "id": "AXmkAJ0MuNgX",
        "outputId": "89e8a781-47a9-43d7-b116-91402c08ac57"
      },
      "execution_count": 57,
      "outputs": [
        {
          "output_type": "stream",
          "name": "stdout",
          "text": [
            "문자열 입력: Python\n",
            "Py\n",
            "yt\n",
            "th\n",
            "ho\n",
            "on\n"
          ]
        }
      ]
    },
    {
      "cell_type": "code",
      "source": [
        "# ex10)\n",
        "print(s[2:5])\n",
        "print(s[3:])\n",
        "print(s[:4])\n",
        "print(s[2:4])\n",
        "print(s[-2:])"
      ],
      "metadata": {
        "colab": {
          "base_uri": "https://localhost:8080/"
        },
        "id": "WXfPRU1nu7nB",
        "outputId": "3c4a9881-3821-4257-b6a8-378ee0e96a70"
      },
      "execution_count": 66,
      "outputs": [
        {
          "output_type": "stream",
          "name": "stdout",
          "text": [
            "tho\n",
            "hon\n",
            "pyth\n",
            "th\n",
            "on\n"
          ]
        }
      ]
    },
    {
      "cell_type": "code",
      "source": [
        "# ex11)\n",
        "s = \"차종: 코란토C, 제조사:쌍용, 배기량: 1998\"\n",
        "print(s[-13:-11:])"
      ],
      "metadata": {
        "colab": {
          "base_uri": "https://localhost:8080/"
        },
        "id": "6h6Riy11vb0w",
        "outputId": "12170184-2c25-4483-d73c-7b68785f8ad9"
      },
      "execution_count": 67,
      "outputs": [
        {
          "output_type": "stream",
          "name": "stdout",
          "text": [
            "쌍용\n"
          ]
        }
      ]
    },
    {
      "cell_type": "code",
      "source": [
        "# ex12)\n",
        "file = \"20210505-104830.jpg\"\n",
        "print(\"촬영 날짜: \" + file[4:6:] + \"월\" + file[6:8:] + \"일\")\n",
        "print(\"촬영 시간 \" + file[-10:-8:] + \"시\" + file[-8:-6:] + \"분\")\n",
        "print(\"확장자:\" + file[-3:])"
      ],
      "metadata": {
        "colab": {
          "base_uri": "https://localhost:8080/"
        },
        "id": "jrHAz1RCvzBG",
        "outputId": "c946e4fc-56a4-43b7-8dea-06819c08d0c9"
      },
      "execution_count": 68,
      "outputs": [
        {
          "output_type": "stream",
          "name": "stdout",
          "text": [
            "촬영 날짜: 05월05일\n",
            "촬영 시간 10시48분\n",
            "확장자:jpg\n"
          ]
        }
      ]
    },
    {
      "cell_type": "code",
      "source": [
        "# ex13)\n",
        "yoil = \"월화수목금토일\"\n",
        "print(yoil[::2])\n",
        "print(yoil[::-1])"
      ],
      "metadata": {
        "colab": {
          "base_uri": "https://localhost:8080/"
        },
        "id": "AVa4XhoZv8vr",
        "outputId": "a10b1daa-5488-45db-87fc-e4beed62acde"
      },
      "execution_count": 93,
      "outputs": [
        {
          "output_type": "stream",
          "name": "stdout",
          "text": [
            "월수금일\n",
            "일토금목수화월\n"
          ]
        }
      ]
    },
    {
      "cell_type": "code",
      "source": [
        "# ex14)\n",
        "jumin = \"901231-1914983\"\n",
        "year = jumin[0:2:]\n",
        "if int(jumin[7]) % 2 == 0 :\n",
        "    gender = \"여자\"\n",
        "else :\n",
        "    gender = \"남자\"\n",
        "print(\"{}년생 {}입니다.\".format(year, gender))"
      ],
      "metadata": {
        "colab": {
          "base_uri": "https://localhost:8080/"
        },
        "id": "ynunL7cEwa1p",
        "outputId": "f685c74c-a949-4910-efd0-c26d31a4fa72"
      },
      "execution_count": 73,
      "outputs": [
        {
          "output_type": "stream",
          "name": "stdout",
          "text": [
            "90년생 남자입니다.\n"
          ]
        }
      ]
    },
    {
      "cell_type": "code",
      "source": [
        "# ex15)\n",
        "a = \"10 20 30 40 50\"\n",
        "print(a.split())\n",
        "b = \"나는 서울로봇고 2학년이야.\"\n",
        "print(b.split())"
      ],
      "metadata": {
        "colab": {
          "base_uri": "https://localhost:8080/"
        },
        "id": "2egOjY47wkgd",
        "outputId": "5502532e-27f1-48f5-c474-0102cc96a657"
      },
      "execution_count": 78,
      "outputs": [
        {
          "output_type": "stream",
          "name": "stdout",
          "text": [
            "['10', '20', '30', '40', '50']\n",
            "['나는', '서울로봇고', '2학년이야.']\n"
          ]
        }
      ]
    },
    {
      "cell_type": "code",
      "source": [
        "# ex16)\n",
        "a = \"a:b:c:d\"\n",
        "print(a.split(':'))"
      ],
      "metadata": {
        "colab": {
          "base_uri": "https://localhost:8080/"
        },
        "id": "n9B71qN1xLfu",
        "outputId": "6096ba20-9879-4c08-8e55-7a1dc1f16edb"
      },
      "execution_count": 83,
      "outputs": [
        {
          "output_type": "stream",
          "name": "stdout",
          "text": [
            "['a', 'b', 'c', 'd']\n"
          ]
        }
      ]
    },
    {
      "cell_type": "code",
      "source": [
        "# ex17)\n",
        "BTS = \"정국, 진, 뷔, 슈가, 지민, RM, 제이홉\"\n",
        "BTS_member = BTS.split(', ')\n",
        "print(\"방탄  멤버:\", BTS_member)\n",
        "\n",
        "for member in BTS_member :\n",
        "    print(member, '사랑해')"
      ],
      "metadata": {
        "colab": {
          "base_uri": "https://localhost:8080/"
        },
        "id": "efY1FvAyxl84",
        "outputId": "f972b991-7f3f-46ba-fde9-2318cb9dc55a"
      },
      "execution_count": 92,
      "outputs": [
        {
          "output_type": "stream",
          "name": "stdout",
          "text": [
            "방탄  멤버: ['정국', '진', '뷔', '슈가', '지민', 'RM', '제이홉']\n",
            "정국 사랑해\n",
            "진 사랑해\n",
            "뷔 사랑해\n",
            "슈가 사랑해\n",
            "지민 사랑해\n",
            "RM 사랑해\n",
            "제이홉 사랑해\n"
          ]
        }
      ]
    },
    {
      "cell_type": "code",
      "source": [
        "# ex18) \n",
        "file_names = [\"file1.py\", \"file2.txt\", \"file3.pptx\", \"file4.doc\"]\n",
        "\n",
        "for file_name in file_names :\n",
        "    arr = file_name.split(\".\")\n",
        "    print(file_name, '\\t', '파일명:', arr[0], ', ', '확장자:', arr[1] , sep = '')"
      ],
      "metadata": {
        "colab": {
          "base_uri": "https://localhost:8080/"
        },
        "id": "e7zRHFdBz60i",
        "outputId": "fd5b123b-addb-41af-e0c5-ea6dd9d0a4f8"
      },
      "execution_count": 100,
      "outputs": [
        {
          "output_type": "stream",
          "name": "stdout",
          "text": [
            "file1.py\t파일명:file1, 확장자:py\n",
            "file2.txt\t파일명:file2, 확장자:txt\n",
            "file3.pptx\t파일명:file3, 확장자:pptx\n",
            "file4.doc\t파일명:file4, 확장자:doc\n"
          ]
        }
      ]
    }
  ]
}