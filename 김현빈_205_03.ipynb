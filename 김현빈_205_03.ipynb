{
  "nbformat": 4,
  "nbformat_minor": 0,
  "metadata": {
    "colab": {
      "provenance": []
    },
    "kernelspec": {
      "name": "python3",
      "display_name": "Python 3"
    },
    "language_info": {
      "name": "python"
    }
  },
  "cells": [
    {
      "cell_type": "code",
      "execution_count": null,
      "metadata": {
        "colab": {
          "base_uri": "https://localhost:8080/"
        },
        "id": "giLvRP8DyWq1",
        "outputId": "6690a5cd-a37f-4400-d755-93af69d82369"
      },
      "outputs": [
        {
          "output_type": "stream",
          "name": "stdout",
          "text": [
            "7\n",
            "3\n",
            "10\n",
            "2.5\n",
            "25\n",
            "2\n",
            "1\n"
          ]
        }
      ],
      "source": [
        "print(5+2)\n",
        "print(5-2)\n",
        "print(5*2)\n",
        "print(5/2)\n",
        "print(5**2)\n",
        "print(5//2)\n",
        "print(5%2)"
      ]
    },
    {
      "cell_type": "code",
      "source": [
        "x = 10 % 3\n",
        "print(x)\n",
        "y = 7//3\n",
        "print(y)"
      ],
      "metadata": {
        "colab": {
          "base_uri": "https://localhost:8080/"
        },
        "id": "LKLXzZOdyY6p",
        "outputId": "da0bfe78-2145-45cd-ed03-c22f9b8e42df"
      },
      "execution_count": null,
      "outputs": [
        {
          "output_type": "stream",
          "name": "stdout",
          "text": [
            "1\n",
            "2\n"
          ]
        }
      ]
    },
    {
      "cell_type": "code",
      "source": [
        "a = 10\n",
        "b = 20\n",
        "c =  a + b * 10 - 5 / 5\n",
        "print(c)"
      ],
      "metadata": {
        "colab": {
          "base_uri": "https://localhost:8080/"
        },
        "id": "I4Aadg2OyaiT",
        "outputId": "3298a290-65f7-4c78-ed8f-23665e0be8d7"
      },
      "execution_count": null,
      "outputs": [
        {
          "output_type": "stream",
          "name": "stdout",
          "text": [
            "209.0\n"
          ]
        }
      ]
    },
    {
      "cell_type": "code",
      "source": [
        "x = 2**3\n",
        "print(x)\n",
        "\n",
        "y = 10**4\n",
        "print(y)"
      ],
      "metadata": {
        "colab": {
          "base_uri": "https://localhost:8080/"
        },
        "id": "qYoG3iQaycHg",
        "outputId": "de457dbe-1c3f-44cc-f2ee-ddb722c014f8"
      },
      "execution_count": null,
      "outputs": [
        {
          "output_type": "stream",
          "name": "stdout",
          "text": [
            "8\n",
            "10000\n"
          ]
        }
      ]
    },
    {
      "cell_type": "code",
      "source": [
        "hello = '안녕' * 5\n",
        "print(hello)"
      ],
      "metadata": {
        "colab": {
          "base_uri": "https://localhost:8080/"
        },
        "id": "vGMgkn56ydCn",
        "outputId": "30b6bf75-36de-4df5-925a-0f4ed5bf0094"
      },
      "execution_count": null,
      "outputs": [
        {
          "output_type": "stream",
          "name": "stdout",
          "text": [
            "안녕안녕안녕안녕안녕\n"
          ]
        }
      ]
    },
    {
      "cell_type": "code",
      "source": [
        "s1 = \"대한민국\"\n",
        "s2 = \"만세\"\n",
        "print(s1+s2)\n",
        "print(s1*5)"
      ],
      "metadata": {
        "colab": {
          "base_uri": "https://localhost:8080/"
        },
        "id": "03MyalMUyeTM",
        "outputId": "f1f9d741-8755-4e90-9dd6-ef2a21c471d3"
      },
      "execution_count": null,
      "outputs": [
        {
          "output_type": "stream",
          "name": "stdout",
          "text": [
            "대한민국만세\n",
            "대한민국대한민국대한민국대한민국대한민국\n"
          ]
        }
      ]
    },
    {
      "cell_type": "code",
      "source": [
        "print(\"korea\" + str(2021))\n",
        "print(10+int(22))\n",
        "print(10 + int(22.5))\n",
        "print(10 + int(float(22.5)))\n",
        "# print(\"korea\"+2021)"
      ],
      "metadata": {
        "colab": {
          "base_uri": "https://localhost:8080/"
        },
        "id": "nY4VhZcVykwX",
        "outputId": "ce996df9-d6d2-445e-fc47-85b68932149d"
      },
      "execution_count": null,
      "outputs": [
        {
          "output_type": "stream",
          "name": "stdout",
          "text": [
            "korea2021\n",
            "32\n",
            "32\n",
            "32\n"
          ]
        }
      ]
    },
    {
      "cell_type": "code",
      "source": [
        "x = 10\n",
        "x += 20 # x = x + 20 와 동일\n",
        "print(x)"
      ],
      "metadata": {
        "colab": {
          "base_uri": "https://localhost:8080/"
        },
        "id": "7gWOM2Kjzk1G",
        "outputId": "b38c761f-d8fc-4aa5-e885-b0e32bc423d2"
      },
      "execution_count": null,
      "outputs": [
        {
          "output_type": "stream",
          "name": "stdout",
          "text": [
            "30\n"
          ]
        }
      ]
    },
    {
      "cell_type": "code",
      "source": [
        "a = 5\n",
        "a = a + 1\n",
        "print(a)\n",
        "\n",
        "a = 5\n",
        "a += 1\n",
        "print(a)\n",
        "\n",
        "a -= 5\n",
        "print(a)\n",
        "\n",
        "a *= 2\n",
        "print(a)"
      ],
      "metadata": {
        "colab": {
          "base_uri": "https://localhost:8080/"
        },
        "id": "G5VEI4I60KOW",
        "outputId": "56f56b8c-81c0-4b59-ec94-8a6badda57a7"
      },
      "execution_count": null,
      "outputs": [
        {
          "output_type": "stream",
          "name": "stdout",
          "text": [
            "6\n",
            "6\n",
            "1\n",
            "2\n"
          ]
        }
      ]
    },
    {
      "cell_type": "code",
      "source": [
        "x = 3\n",
        "y = 5\n",
        "x *= x + y  # x = x * (x + y)와 동일\n",
        "print(x)"
      ],
      "metadata": {
        "colab": {
          "base_uri": "https://localhost:8080/"
        },
        "id": "y_GLFUSU0gwS",
        "outputId": "4a05c249-aa7d-422f-f7c0-273cea1707d6"
      },
      "execution_count": null,
      "outputs": [
        {
          "output_type": "stream",
          "name": "stdout",
          "text": [
            "24\n"
          ]
        }
      ]
    },
    {
      "cell_type": "code",
      "source": [
        "money = int(input(\"투입한 돈: \"))\n",
        "price = int(input(\"물건 값: \"))\n",
        "change = money - price\n",
        "print('거스름돈:', change)\n",
        "print('500원 동전의 개수:', change//500)\n",
        "print('100원 동전의 개수:', change%500 // 100)"
      ],
      "metadata": {
        "colab": {
          "base_uri": "https://localhost:8080/"
        },
        "id": "nri1H67L7Qrh",
        "outputId": "dd14a092-ce84-4ae4-c151-24205d8a99e1"
      },
      "execution_count": null,
      "outputs": [
        {
          "output_type": "stream",
          "name": "stdout",
          "text": [
            "투입한 돈: 2500\n",
            "물건 값: 300\n",
            "거스름돈: 2200\n",
            "500원 동전의 개수: 4\n",
            "100원 동전의 개수: 2\n"
          ]
        }
      ]
    },
    {
      "cell_type": "code",
      "source": [
        "if 3 < 5 :\n",
        "    print(\"Hello World\")"
      ],
      "metadata": {
        "colab": {
          "base_uri": "https://localhost:8080/"
        },
        "id": "S2dnXfK71sy6",
        "outputId": "0be18650-39dd-4451-96c3-a50c4233ce9b"
      },
      "execution_count": null,
      "outputs": [
        {
          "output_type": "stream",
          "name": "stdout",
          "text": [
            "Hello World\n"
          ]
        }
      ]
    },
    {
      "cell_type": "code",
      "source": [
        "if 3 > 5 :\n",
        "    print(\"Hello World\")"
      ],
      "metadata": {
        "id": "9Bux1sLc12nc"
      },
      "execution_count": null,
      "outputs": []
    },
    {
      "cell_type": "code",
      "source": [
        "age = int(input('몇살입니까?'))\n",
        "if age < 20 :\n",
        "    print(\"학생입니다.\")"
      ],
      "metadata": {
        "colab": {
          "base_uri": "https://localhost:8080/"
        },
        "id": "p6-xR5ne16tK",
        "outputId": "aa71ec0a-f1a8-4fe7-e753-59be8a10ccfb"
      },
      "execution_count": null,
      "outputs": [
        {
          "output_type": "stream",
          "name": "stdout",
          "text": [
            "몇살입니까?18\n",
            "학생입니다.\n"
          ]
        }
      ]
    },
    {
      "cell_type": "code",
      "source": [
        "age = 15\n",
        "if age < 20 :\n",
        "    print(\"학생입니다.\")\n",
        "    print(\"안녕히가세요.\")"
      ],
      "metadata": {
        "colab": {
          "base_uri": "https://localhost:8080/"
        },
        "id": "VLtsl1-x2FB6",
        "outputId": "a87bc1ec-ba51-4703-b82f-d0385f60902a"
      },
      "execution_count": null,
      "outputs": [
        {
          "output_type": "stream",
          "name": "stdout",
          "text": [
            "학생입니다.\n",
            "안녕히가세요.\n"
          ]
        }
      ]
    },
    {
      "cell_type": "code",
      "source": [
        "age = 20\n",
        "if age < 20 :\n",
        "    print(\"학생입니다.\")\n",
        "    print(\"안녕히가세요.\")"
      ],
      "metadata": {
        "id": "lUoTzn8-2Vdo"
      },
      "execution_count": null,
      "outputs": []
    },
    {
      "cell_type": "code",
      "source": [
        "print(3 == 5)\n",
        "print(3 != 5)\n",
        "print(3 < 5)"
      ],
      "metadata": {
        "colab": {
          "base_uri": "https://localhost:8080/"
        },
        "id": "hKARSP7r2Zna",
        "outputId": "b91b1be8-575a-4ae1-c649-ac9c7dd78d52"
      },
      "execution_count": null,
      "outputs": [
        {
          "output_type": "stream",
          "name": "stdout",
          "text": [
            "False\n",
            "True\n",
            "True\n"
          ]
        }
      ]
    },
    {
      "cell_type": "code",
      "source": [
        "x = 4\n",
        "print(1<x<5)"
      ],
      "metadata": {
        "colab": {
          "base_uri": "https://localhost:8080/"
        },
        "id": "CS-Yte3A2mm3",
        "outputId": "23411e61-5c11-4fd3-9c68-87a76ca803fe"
      },
      "execution_count": null,
      "outputs": [
        {
          "output_type": "stream",
          "name": "stdout",
          "text": [
            "True\n"
          ]
        }
      ]
    },
    {
      "cell_type": "code",
      "source": [
        "# print(3 => 5)"
      ],
      "metadata": {
        "id": "ElpKuf_-2sJe"
      },
      "execution_count": null,
      "outputs": []
    },
    {
      "cell_type": "code",
      "source": [
        "country = \"Korea\"\n",
        "if country == \"Korea\":\n",
        "    print(\"한국\")"
      ],
      "metadata": {
        "colab": {
          "base_uri": "https://localhost:8080/"
        },
        "id": "akNqX1HZ3JcB",
        "outputId": "7e9657a1-8d3f-4bb8-a40a-3158bf6fa6e7"
      },
      "execution_count": null,
      "outputs": [
        {
          "output_type": "stream",
          "name": "stdout",
          "text": [
            "한국\n"
          ]
        }
      ]
    },
    {
      "cell_type": "code",
      "source": [
        "age = int(input('몇살입니까?'))\n",
        "if age < 20:\n",
        "    print(\"학생입니다.\")\n",
        "else:\n",
        "    print(\"성인입니다.\")"
      ],
      "metadata": {
        "colab": {
          "base_uri": "https://localhost:8080/"
        },
        "id": "RcON-7Ol6m16",
        "outputId": "a152bad2-eae4-485a-fbe0-d55c51baa074"
      },
      "execution_count": null,
      "outputs": [
        {
          "output_type": "stream",
          "name": "stdout",
          "text": [
            "몇살입니까?20\n",
            "성인입니다.\n"
          ]
        }
      ]
    },
    {
      "cell_type": "code",
      "source": [
        "password = input(\"암호입력\")    #암호를 입력\n",
        "if password == \"암호\":\n",
        "    print(\"암호이다.\")\n",
        "else:\n",
        "    print(\"암호가 아니다.\")"
      ],
      "metadata": {
        "colab": {
          "base_uri": "https://localhost:8080/"
        },
        "id": "wLEzJHP_7ETy",
        "outputId": "a1c6f1a0-6e8f-4d86-8a8d-33cdf1ca5b0e"
      },
      "execution_count": null,
      "outputs": [
        {
          "output_type": "stream",
          "name": "stdout",
          "text": [
            "암호입력암호\n",
            "암호이다.\n"
          ]
        }
      ]
    },
    {
      "cell_type": "code",
      "source": [
        "num1 = int(input('첫 번째 숫자를 입력하세요:'))\n",
        "num2 = int(input('두 번째 숫자를 입력하세요:'))\n",
        "\n",
        "if num1 > num2:\n",
        "    print(num1 - num2)\n",
        "else:\n",
        "    print(num2 - num1)"
      ],
      "metadata": {
        "colab": {
          "base_uri": "https://localhost:8080/"
        },
        "id": "lf-x2BrF-MV1",
        "outputId": "b6b16f9b-bb4e-4096-bc9b-bd00d3ec6f1f"
      },
      "execution_count": null,
      "outputs": [
        {
          "output_type": "stream",
          "name": "stdout",
          "text": [
            "첫 번째 숫자를 입력하세요:9\n",
            "두 번째 숫자를 입력하세요:3\n",
            "6\n"
          ]
        }
      ]
    },
    {
      "cell_type": "code",
      "source": [
        "work = int(input('1(주간근무) 또는 2(야간근무)을 입력하세요 : '))\n",
        "time = int(input('근무 시간을 입력해주세요 : '))\n",
        "\n",
        "if work == 1:\n",
        "    print(time, '시간 동안 일한 주간 급여는 ', time*9500, '원 입니다.', sep='')\n",
        "else:\n",
        "    print(time, '시간 동안 일한 주간 급여는 ', int(time*9500*1.5), '원 입니다.', sep='')"
      ],
      "metadata": {
        "colab": {
          "base_uri": "https://localhost:8080/"
        },
        "id": "5nA2FXcV-veS",
        "outputId": "4c16a341-0353-4d8d-a642-d906b44268fc"
      },
      "execution_count": null,
      "outputs": [
        {
          "output_type": "stream",
          "name": "stdout",
          "text": [
            "1(주간근무) 또는 2(야간근무)을 입력하세요 : 2\n",
            "근무 시간을 입력해주세요 : 55\n",
            "55시간 동안 일한 주간 급여는 783750원 입니다.\n"
          ]
        }
      ]
    },
    {
      "cell_type": "code",
      "source": [
        "name = input('이름을 입력하세요: ')\n",
        "time = int(input('일주일간 일한 시간을 입력하세요: '))\n",
        "if time > 40:\n",
        "    print('초과시간:', time - 40)\n",
        "    print(name, ' 님의 주급은 ', 40*12000 + int((time - 40)*12000*1.5), '입니다.', sep = '')\n",
        "else:\n",
        "    print(name, ' 님의 주급은 ', time*12000, '입니다.', sep = '')"
      ],
      "metadata": {
        "colab": {
          "base_uri": "https://localhost:8080/"
        },
        "id": "030fuv_mK-dI",
        "outputId": "52175cdb-cf74-466c-9bf1-d7f60986aa61"
      },
      "execution_count": null,
      "outputs": [
        {
          "output_type": "stream",
          "name": "stdout",
          "text": [
            "이름을 입력하세요: 상민\n",
            "일주일간 일한 시간을 입력하세요: 38\n",
            "상민 님의 주급은 456000입니다.\n"
          ]
        }
      ]
    },
    {
      "cell_type": "code",
      "source": [
        "print ((3==3) and (4 != 3))\n",
        "print ((3==3) or (4 != 3))\n",
        "print (not (4 != 3))"
      ],
      "metadata": {
        "colab": {
          "base_uri": "https://localhost:8080/"
        },
        "id": "2U0I7Us8_ugS",
        "outputId": "38a059f4-ff82-4402-d882-c859851a4da3"
      },
      "execution_count": null,
      "outputs": [
        {
          "output_type": "stream",
          "name": "stdout",
          "text": [
            "True\n",
            "True\n",
            "False\n"
          ]
        }
      ]
    }
  ]
}