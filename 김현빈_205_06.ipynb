{
  "nbformat": 4,
  "nbformat_minor": 0,
  "metadata": {
    "colab": {
      "provenance": []
    },
    "kernelspec": {
      "name": "python3",
      "display_name": "Python 3"
    },
    "language_info": {
      "name": "python"
    }
  },
  "cells": [
    {
      "cell_type": "code",
      "execution_count": null,
      "metadata": {
        "id": "iv_Yg4W31bUH",
        "colab": {
          "base_uri": "https://localhost:8080/"
        },
        "outputId": "e972914c-edf2-4c44-abf6-c0913a04d8de"
      },
      "outputs": [
        {
          "output_type": "stream",
          "name": "stdout",
          "text": [
            "1\n",
            "2\n",
            "3\n"
          ]
        }
      ],
      "source": [
        "for i in [1,2,3] :\n",
        "    print(i)"
      ]
    },
    {
      "cell_type": "code",
      "source": [
        "for i in range(10) : # range(시작값, 끝값, 증가값)\n",
        "    print(i, end = ' ')"
      ],
      "metadata": {
        "colab": {
          "base_uri": "https://localhost:8080/"
        },
        "id": "TsT8-Sbb6KT1",
        "outputId": "f8ab47a4-1e52-41eb-89ac-ad034c55f670"
      },
      "execution_count": null,
      "outputs": [
        {
          "output_type": "stream",
          "name": "stdout",
          "text": [
            "0 1 2 3 4 5 6 7 8 9 "
          ]
        }
      ]
    },
    {
      "cell_type": "code",
      "source": [
        "for i in range(1, 11) :\n",
        "    print(i, end = ' ')"
      ],
      "metadata": {
        "colab": {
          "base_uri": "https://localhost:8080/"
        },
        "id": "P1t6Z2046mB8",
        "outputId": "2ffd379b-13ca-417d-f224-4353af83716e"
      },
      "execution_count": null,
      "outputs": [
        {
          "output_type": "stream",
          "name": "stdout",
          "text": [
            "1 2 3 4 5 6 7 8 9 10 "
          ]
        }
      ]
    },
    {
      "cell_type": "code",
      "source": [
        "for i in range(1, 10, 2) :\n",
        "    print(i, end = ' ')"
      ],
      "metadata": {
        "colab": {
          "base_uri": "https://localhost:8080/"
        },
        "id": "kDzh6Ysh6scX",
        "outputId": "a17ba9b9-ee3d-46a9-856c-ea621d6e65cf"
      },
      "execution_count": null,
      "outputs": [
        {
          "output_type": "stream",
          "name": "stdout",
          "text": [
            "1 3 5 7 9 "
          ]
        }
      ]
    },
    {
      "cell_type": "code",
      "source": [
        "for i in range(20, 0, -2) :\n",
        "    print(i, end = ' ')"
      ],
      "metadata": {
        "colab": {
          "base_uri": "https://localhost:8080/"
        },
        "id": "xsHWekdY7qRv",
        "outputId": "1821d46e-947b-436c-f0f5-21ed077e9b16"
      },
      "execution_count": null,
      "outputs": [
        {
          "output_type": "stream",
          "name": "stdout",
          "text": [
            "20 18 16 14 12 10 8 6 4 2 "
          ]
        }
      ]
    },
    {
      "cell_type": "code",
      "source": [
        "for i in range(3) :\n",
        "    print(\"안녕하세요\")"
      ],
      "metadata": {
        "colab": {
          "base_uri": "https://localhost:8080/"
        },
        "id": "YKxvaAr-71xd",
        "outputId": "6e8424c7-1314-40fc-fabb-1fba10fd2b18"
      },
      "execution_count": null,
      "outputs": [
        {
          "output_type": "stream",
          "name": "stdout",
          "text": [
            "안녕하세요\n",
            "안녕하세요\n",
            "안녕하세요\n"
          ]
        }
      ]
    },
    {
      "cell_type": "code",
      "source": [
        "a = 10\n",
        "for num in range(1, 5, 2) :\n",
        "    a += num\n",
        "print(a)"
      ],
      "metadata": {
        "colab": {
          "base_uri": "https://localhost:8080/"
        },
        "id": "DRsDfr2C78Mn",
        "outputId": "b5bc4973-c504-4b45-9afc-7f012037ec40"
      },
      "execution_count": null,
      "outputs": [
        {
          "output_type": "stream",
          "name": "stdout",
          "text": [
            "14\n"
          ]
        }
      ]
    },
    {
      "cell_type": "code",
      "source": [
        "for i in range(1, 4, 1) :\n",
        "    print(i, \"번째 학생의 성적 처리\")"
      ],
      "metadata": {
        "colab": {
          "base_uri": "https://localhost:8080/"
        },
        "id": "pWKdNoym8JlT",
        "outputId": "41761c29-81ea-4059-bfaa-0d8f891b115b"
      },
      "execution_count": null,
      "outputs": [
        {
          "output_type": "stream",
          "name": "stdout",
          "text": [
            "1 번째 학생의 성적 처리\n",
            "2 번째 학생의 성적 처리\n",
            "3 번째 학생의 성적 처리\n"
          ]
        }
      ]
    },
    {
      "cell_type": "code",
      "source": [
        "for i in range(1, 21, 1) :\n",
        "    if i % 2 == 0 :\n",
        "        print(i, end = ' ')"
      ],
      "metadata": {
        "colab": {
          "base_uri": "https://localhost:8080/"
        },
        "id": "89bPtbS79_62",
        "outputId": "b7436b50-e717-436a-ddb1-fca29a5deffe"
      },
      "execution_count": null,
      "outputs": [
        {
          "output_type": "stream",
          "name": "stdout",
          "text": [
            "2 4 6 8 10 12 14 16 18 20 "
          ]
        }
      ]
    },
    {
      "cell_type": "code",
      "source": [
        "for i in range(1, 10, 1) :\n",
        "    print(\"2 x %d = %d\" %(i, i*2))"
      ],
      "metadata": {
        "colab": {
          "base_uri": "https://localhost:8080/"
        },
        "id": "kzDfzuEI-sF1",
        "outputId": "ecaec763-10c6-40f5-8dfb-7f28bb78b4c5"
      },
      "execution_count": null,
      "outputs": [
        {
          "output_type": "stream",
          "name": "stdout",
          "text": [
            "2 x 1 = 2\n",
            "2 x 2 = 4\n",
            "2 x 3 = 6\n",
            "2 x 4 = 8\n",
            "2 x 5 = 10\n",
            "2 x 6 = 12\n",
            "2 x 7 = 14\n",
            "2 x 8 = 16\n",
            "2 x 9 = 18\n"
          ]
        }
      ]
    },
    {
      "cell_type": "code",
      "source": [
        "sum = 0\n",
        "for i in range(1, 11, 1) :\n",
        "    sum += i\n",
        "    print(\"i의 값 : %d  => 합계 : %d\" %(i,sum))"
      ],
      "metadata": {
        "colab": {
          "base_uri": "https://localhost:8080/"
        },
        "id": "b4NPigCT_ntg",
        "outputId": "7cb00af1-c734-413f-c29d-2d5f5ca8fcc5"
      },
      "execution_count": null,
      "outputs": [
        {
          "output_type": "stream",
          "name": "stdout",
          "text": [
            "i의 값 : 1  => 합계 : 1\n",
            "i의 값 : 2  => 합계 : 3\n",
            "i의 값 : 3  => 합계 : 6\n",
            "i의 값 : 4  => 합계 : 10\n",
            "i의 값 : 5  => 합계 : 15\n",
            "i의 값 : 6  => 합계 : 21\n",
            "i의 값 : 7  => 합계 : 28\n",
            "i의 값 : 8  => 합계 : 36\n",
            "i의 값 : 9  => 합계 : 45\n",
            "i의 값 : 10  => 합계 : 55\n"
          ]
        }
      ]
    },
    {
      "cell_type": "code",
      "source": [
        "sum = 0\n",
        "for i in range(2, 101, 1) :\n",
        "    if i % 2 == 0 :\n",
        "        sum += i\n",
        "print(\"sum = %d\" %(sum))"
      ],
      "metadata": {
        "colab": {
          "base_uri": "https://localhost:8080/"
        },
        "id": "h1a6a2UBAJPt",
        "outputId": "27857ff7-c90d-44bf-d8f2-4159dc9fd750"
      },
      "execution_count": null,
      "outputs": [
        {
          "output_type": "stream",
          "name": "stdout",
          "text": [
            "sum = 2550\n"
          ]
        }
      ]
    },
    {
      "cell_type": "code",
      "source": [
        "factorial = 1\n",
        "for i in range(10, 0, -1) :\n",
        "    factorial *= i\n",
        "print(\"10! = %d\" %(factorial))"
      ],
      "metadata": {
        "colab": {
          "base_uri": "https://localhost:8080/"
        },
        "id": "I_WYoH5AAcFH",
        "outputId": "958b427c-cbc4-40ea-863e-05b1a02be899"
      },
      "execution_count": null,
      "outputs": [
        {
          "output_type": "stream",
          "name": "stdout",
          "text": [
            "10! = 3628800\n"
          ]
        }
      ]
    },
    {
      "cell_type": "code",
      "source": [
        "for i in range(1, 101, 1) :\n",
        "    if i % 5 == 0 :\n",
        "        print(i, end = ' ')\n",
        "        if i % 7 == 0 :\n",
        "            print()"
      ],
      "metadata": {
        "colab": {
          "base_uri": "https://localhost:8080/"
        },
        "id": "otERA0WHBJXe",
        "outputId": "0d7e02c8-8b09-4cb0-9e90-2cc527768b5a"
      },
      "execution_count": null,
      "outputs": [
        {
          "output_type": "stream",
          "name": "stdout",
          "text": [
            "5 10 15 20 25 30 35 \n",
            "40 45 50 55 60 65 70 \n",
            "75 80 85 90 95 100 "
          ]
        }
      ]
    },
    {
      "cell_type": "code",
      "source": [
        "n = int(input(\"정수를 입력하시오 : \"))\n",
        "for i in range(1, n+1, 1) :\n",
        "    if n % i == 0 :\n",
        "        print(i, end = ' ')"
      ],
      "metadata": {
        "colab": {
          "base_uri": "https://localhost:8080/"
        },
        "id": "6M12Ip26CQDf",
        "outputId": "868ea764-2237-428a-fdd1-3b43a8803304"
      },
      "execution_count": null,
      "outputs": [
        {
          "output_type": "stream",
          "name": "stdout",
          "text": [
            "정수를 입력하시오 : 6\n",
            "1 2 3 6 "
          ]
        }
      ]
    },
    {
      "cell_type": "code",
      "source": [
        "a = 0\n",
        "b = 1\n",
        "c = 0\n",
        "for i in range(1, 21, 1) :\n",
        "    print(a, end = ' ')\n",
        "    c = a + b\n",
        "    a = b\n",
        "    b = c"
      ],
      "metadata": {
        "colab": {
          "base_uri": "https://localhost:8080/"
        },
        "id": "sC2uNZzFDIv-",
        "outputId": "33b4c71c-6c2d-47f6-bb0b-b4d521914d2f"
      },
      "execution_count": null,
      "outputs": [
        {
          "output_type": "stream",
          "name": "stdout",
          "text": [
            "0 1 1 2 3 5 8 13 21 34 55 89 144 233 377 610 987 1597 2584 4181 "
          ]
        }
      ]
    },
    {
      "cell_type": "code",
      "source": [
        "for i in range(1, 41, 1) :\n",
        "    if i % 10 == 0 :\n",
        "        print(\"+\", end = '')\n",
        "    else :\n",
        "        print(\"-\", end = '')"
      ],
      "metadata": {
        "colab": {
          "base_uri": "https://localhost:8080/"
        },
        "id": "Iq50Aqc2GyN3",
        "outputId": "b58401b8-9472-4f5f-a020-3db617acf6b6"
      },
      "execution_count": null,
      "outputs": [
        {
          "output_type": "stream",
          "name": "stdout",
          "text": [
            "---------+---------+---------+---------+"
          ]
        }
      ]
    },
    {
      "cell_type": "code",
      "source": [
        "i = 1\n",
        "while i <= 40 :\n",
        "    if i % 10 == 0 :\n",
        "        print(\"+\", end = '')\n",
        "    else :\n",
        "        print(\"-\", end = '')\n",
        "    i += 1"
      ],
      "metadata": {
        "colab": {
          "base_uri": "https://localhost:8080/"
        },
        "id": "cL7BwhUUHDt7",
        "outputId": "1a9b9c56-cabe-453d-cd22-5e1d9b57592b"
      },
      "execution_count": null,
      "outputs": [
        {
          "output_type": "stream",
          "name": "stdout",
          "text": [
            "---------+---------+---------+---------+"
          ]
        }
      ]
    },
    {
      "cell_type": "code",
      "source": [
        "for i in range(1, 41, 1) :\n",
        "    if i % 5 == 0 and i % 2 != 0 :\n",
        "        print(\"+\", end = '')\n",
        "    else :\n",
        "        print(\"-\", end = '')"
      ],
      "metadata": {
        "colab": {
          "base_uri": "https://localhost:8080/"
        },
        "id": "tosZJufGHh-I",
        "outputId": "f63d8613-10b8-4eb3-d4a2-ca5d4cac00da"
      },
      "execution_count": null,
      "outputs": [
        {
          "output_type": "stream",
          "name": "stdout",
          "text": [
            "----+---------+---------+---------+-----"
          ]
        }
      ]
    },
    {
      "cell_type": "code",
      "source": [
        "print(\"-----------------------------------------------------------\")\n",
        "print(\"센치(cm)\\t인치(inch)\\t피트(ft)\\t야드(yd)\")\n",
        "print(\"-----------------------------------------------------------\")\n",
        "for cm in range(10, 101, 10) :\n",
        "    inch = cm * 0.393701\n",
        "    ft = cm * 0.032808\n",
        "    yd = cm * 0.010936\n",
        "    print(\"  %d\\t\\t  %.1f\\t\\t  %.1f\\t\\t  %.1f\" %(cm, inch, ft, yd))"
      ],
      "metadata": {
        "colab": {
          "base_uri": "https://localhost:8080/"
        },
        "id": "hntFzIpFHyEb",
        "outputId": "d970f963-e3e7-4b1a-ac99-fb312dfdf02e"
      },
      "execution_count": null,
      "outputs": [
        {
          "output_type": "stream",
          "name": "stdout",
          "text": [
            "-----------------------------------------------------------\n",
            "센치(cm)\t인치(inch)\t피트(ft)\t야드(yd)\n",
            "-----------------------------------------------------------\n",
            "  10\t\t  3.9\t\t  0.3\t\t  0.1\n",
            "  20\t\t  7.9\t\t  0.7\t\t  0.2\n",
            "  30\t\t  11.8\t\t  1.0\t\t  0.3\n",
            "  40\t\t  15.7\t\t  1.3\t\t  0.4\n",
            "  50\t\t  19.7\t\t  1.6\t\t  0.5\n",
            "  60\t\t  23.6\t\t  2.0\t\t  0.7\n",
            "  70\t\t  27.6\t\t  2.3\t\t  0.8\n",
            "  80\t\t  31.5\t\t  2.6\t\t  0.9\n",
            "  90\t\t  35.4\t\t  3.0\t\t  1.0\n",
            "  100\t\t  39.4\t\t  3.3\t\t  1.1\n"
          ]
        }
      ]
    },
    {
      "cell_type": "code",
      "source": [
        "for i in range(1, 1001) :\n",
        "    print(i, end = ' ')\n",
        "    if i == 10 :\n",
        "        break"
      ],
      "metadata": {
        "colab": {
          "base_uri": "https://localhost:8080/"
        },
        "id": "C9II5hIWUn6Z",
        "outputId": "b2e38c4c-6759-458c-9fd2-fe93c7a030a1"
      },
      "execution_count": null,
      "outputs": [
        {
          "output_type": "stream",
          "name": "stdout",
          "text": [
            "1 2 3 4 5 6 7 8 9 10 "
          ]
        }
      ]
    },
    {
      "cell_type": "code",
      "source": [
        "score = {92, 86, 68, 120, 56, 72}\n",
        "for s in score :\n",
        "    if s < 0 or s > 100 :\n",
        "        continue\n",
        "    print(s)\n",
        "print(\"성적 처리 끝\")"
      ],
      "metadata": {
        "colab": {
          "base_uri": "https://localhost:8080/"
        },
        "id": "A8THbO7TUxei",
        "outputId": "baa1f866-4976-4079-8918-016bf6821a40"
      },
      "execution_count": null,
      "outputs": [
        {
          "output_type": "stream",
          "name": "stdout",
          "text": [
            "68\n",
            "86\n",
            "72\n",
            "56\n",
            "92\n",
            "성적 처리 끝\n"
          ]
        }
      ]
    },
    {
      "cell_type": "code",
      "source": [
        "print(\"3+4?\")\n",
        "while True :\n",
        "    n = int(input(\"정답을 입력하세요. : \"))\n",
        "    if n == 7 :\n",
        "        break\n",
        "print(\"참 잘했어요\")"
      ],
      "metadata": {
        "colab": {
          "base_uri": "https://localhost:8080/"
        },
        "id": "TnBgeagaal-f",
        "outputId": "cc448c53-21c6-40fe-a2ed-da9798c2063b"
      },
      "execution_count": null,
      "outputs": [
        {
          "output_type": "stream",
          "name": "stdout",
          "text": [
            "3+4?\n",
            "정답을 입력하세요. : 6\n",
            "정답을 입력하세요. : 8\n",
            "정답을 입력하세요. : 7\n",
            "참 잘했어요\n"
          ]
        }
      ]
    }
  ]
}