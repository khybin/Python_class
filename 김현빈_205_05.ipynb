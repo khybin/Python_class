{
  "nbformat": 4,
  "nbformat_minor": 0,
  "metadata": {
    "colab": {
      "provenance": []
    },
    "kernelspec": {
      "name": "python3",
      "display_name": "Python 3"
    },
    "language_info": {
      "name": "python"
    }
  },
  "cells": [
    {
      "cell_type": "code",
      "execution_count": null,
      "metadata": {
        "colab": {
          "base_uri": "https://localhost:8080/"
        },
        "id": "q8El05OL3L7f",
        "outputId": "a923c10b-6e12-42e6-fb2a-6b111d4bed78"
      },
      "outputs": [
        {
          "output_type": "stream",
          "name": "stdout",
          "text": [
            "좋은 저녁입니다. 지금 시각은 22 시 입니다.\n",
            "현재 날씨가 화창합니다.\n",
            "종달새가 노래를 하지 않습니다.\n"
          ]
        }
      ],
      "source": [
        "import random\n",
        "\n",
        "sunny = random.choice([True, False])\n",
        "time = random.randint(1, 24)\n",
        "\n",
        "if 6 <= time < 12 :\n",
        "    print(\"좋은 아침입니다. 지금 시각은 %d 시 입니다.\" %(time))\n",
        "elif 12 <= time <= 18 :\n",
        "    print(\"좋은 점심입니다. 지금 시각은 %d 시 입니다.\" %(time))\n",
        "elif 18 < time < 24 :\n",
        "    print(\"좋은 저녁입니다. 지금 시각은 %d 시 입니다.\" %(time))\n",
        "else :\n",
        "    print(\"좋은 새벽입니다. 지금 시각은 %d 시 입니다.\" %(time))\n",
        "\n",
        "if sunny == True :\n",
        "    print(\"현재 날씨가 화창합니다.\")\n",
        "    if 6 <= time <= 8 :\n",
        "        print(\"종달새가 노래를 부르고 있습니다.\")\n",
        "    else :\n",
        "        print(\"종달새가 노래를 하지 않습니다.\")\n",
        "else :\n",
        "    print(\"현재 날씨가 화창하지 않습니다.\")"
      ]
    },
    {
      "cell_type": "code",
      "source": [
        "x = 0\n",
        "while x < 3 :\n",
        "    print(\"안녕하세요.\")\n",
        "    x += 1"
      ],
      "metadata": {
        "colab": {
          "base_uri": "https://localhost:8080/"
        },
        "id": "LmFvke6_BdWO",
        "outputId": "1bbc9220-ed3f-4c75-eaf7-848b07055d52"
      },
      "execution_count": null,
      "outputs": [
        {
          "output_type": "stream",
          "name": "stdout",
          "text": [
            "안녕하세요.\n",
            "안녕하세요.\n",
            "안녕하세요.\n"
          ]
        }
      ]
    },
    {
      "cell_type": "code",
      "source": [
        "student = 1\n",
        "while student <= 3 :\n",
        "    print(student, \"번 학생의 성적을 처리한다.\")\n",
        "    student += 1"
      ],
      "metadata": {
        "colab": {
          "base_uri": "https://localhost:8080/"
        },
        "id": "hrhdraSvBlum",
        "outputId": "fb6c8de5-f513-4e41-be01-0c628f12e9ff"
      },
      "execution_count": null,
      "outputs": [
        {
          "output_type": "stream",
          "name": "stdout",
          "text": [
            "1 번 학생의 성적을 처리한다.\n",
            "2 번 학생의 성적을 처리한다.\n",
            "3 번 학생의 성적을 처리한다.\n"
          ]
        }
      ]
    },
    {
      "cell_type": "code",
      "source": [
        "dan = int(input(\"원하는 단은? \"))\n",
        "\n",
        "i = 1\n",
        "while i <= 9 :\n",
        "    print(\"%d * %d = %d\" %(dan,i,dan*i))\n",
        "    i += 1"
      ],
      "metadata": {
        "colab": {
          "base_uri": "https://localhost:8080/"
        },
        "id": "uVQ1inY6B3Bm",
        "outputId": "a9c7bb95-ba94-4115-d2b3-b577011927aa"
      },
      "execution_count": null,
      "outputs": [
        {
          "output_type": "stream",
          "name": "stdout",
          "text": [
            "원하는 단은? 3\n",
            "3 * 1 = 3\n",
            "3 * 2 = 6\n",
            "3 * 3 = 9\n",
            "3 * 4 = 12\n",
            "3 * 5 = 15\n",
            "3 * 6 = 18\n",
            "3 * 7 = 21\n",
            "3 * 8 = 24\n",
            "3 * 9 = 27\n"
          ]
        }
      ]
    },
    {
      "cell_type": "code",
      "source": [
        "num = 1\n",
        "sum = 0\n",
        "while num <= 10 :\n",
        "    sum += num\n",
        "    print(\"num의 값 : %d => 합계 : %d\" %(num, sum))\n",
        "    num += 1"
      ],
      "metadata": {
        "colab": {
          "base_uri": "https://localhost:8080/"
        },
        "id": "UubFBJcSCc-X",
        "outputId": "553f5d8f-aa90-475c-d25a-fb828841a737"
      },
      "execution_count": null,
      "outputs": [
        {
          "output_type": "stream",
          "name": "stdout",
          "text": [
            "num의 값 : 1 => 합계 : 1\n",
            "num의 값 : 2 => 합계 : 3\n",
            "num의 값 : 3 => 합계 : 6\n",
            "num의 값 : 4 => 합계 : 10\n",
            "num의 값 : 5 => 합계 : 15\n",
            "num의 값 : 6 => 합계 : 21\n",
            "num의 값 : 7 => 합계 : 28\n",
            "num의 값 : 8 => 합계 : 36\n",
            "num의 값 : 9 => 합계 : 45\n",
            "num의 값 : 10 => 합계 : 55\n"
          ]
        }
      ]
    },
    {
      "cell_type": "code",
      "source": [
        "num = 150\n",
        "sum = 0\n",
        "while num <= 300 :\n",
        "    if num % 2 != 0 :\n",
        "        sum += num\n",
        "    num += 1\n",
        "print(sum)"
      ],
      "metadata": {
        "colab": {
          "base_uri": "https://localhost:8080/"
        },
        "id": "7lUXhwowDUT3",
        "outputId": "f2879526-ecd9-4612-b379-fe3c10fc2ad5"
      },
      "execution_count": null,
      "outputs": [
        {
          "output_type": "stream",
          "name": "stdout",
          "text": [
            "16875\n"
          ]
        }
      ]
    },
    {
      "cell_type": "code",
      "source": [
        "f = -5\n",
        "\n",
        "print(\"---------------\")\n",
        "print(\"섭씨   화씨\")\n",
        "print(\"---------------\")\n",
        "\n",
        "while f <= 5 :\n",
        "    c = f * 9.0/5.0 + 32.0\n",
        "    if f < 0 :\n",
        "        print(\"  %d    %.1f\" %(f, c))\n",
        "    else :\n",
        "        print(\"   %d    %.1f\" %(f, c))\n",
        "    f += 1\n",
        "\n",
        "print(\"---------------\")"
      ],
      "metadata": {
        "colab": {
          "base_uri": "https://localhost:8080/"
        },
        "id": "rj-988dHD3ud",
        "outputId": "8b58a332-ed81-4c17-be36-e12ee61b1cf3"
      },
      "execution_count": null,
      "outputs": [
        {
          "output_type": "stream",
          "name": "stdout",
          "text": [
            "---------------\n",
            "섭씨   화씨\n",
            "---------------\n",
            "  -5    23.0\n",
            "  -4    24.8\n",
            "  -3    26.6\n",
            "  -2    28.4\n",
            "  -1    30.2\n",
            "   0    32.0\n",
            "   1    33.8\n",
            "   2    35.6\n",
            "   3    37.4\n",
            "   4    39.2\n",
            "   5    41.0\n",
            "---------------\n"
          ]
        }
      ]
    },
    {
      "cell_type": "code",
      "source": [
        "n = 1\n",
        "fac = 1\n",
        "\n",
        "while n <= 10 :\n",
        "    fac *= n\n",
        "    n += 1\n",
        "print(\"%d! = %d\" %(n-1,fac))"
      ],
      "metadata": {
        "colab": {
          "base_uri": "https://localhost:8080/"
        },
        "id": "Ek-ICVx4GIEJ",
        "outputId": "45979890-0fa5-4aa6-8d48-04165605ece6"
      },
      "execution_count": null,
      "outputs": [
        {
          "output_type": "stream",
          "name": "stdout",
          "text": [
            "10! = 3628800\n"
          ]
        }
      ]
    },
    {
      "cell_type": "code",
      "source": [
        "num = 1\n",
        "\n",
        "while num <= 20 :\n",
        "    if num % 2 == 0 :\n",
        "        print(num, end = ' ')\n",
        "    num += 1"
      ],
      "metadata": {
        "colab": {
          "base_uri": "https://localhost:8080/"
        },
        "id": "JQVzVTI7HL7g",
        "outputId": "87fd533c-0cea-42f9-d8f6-5d5a596b4b42"
      },
      "execution_count": null,
      "outputs": [
        {
          "output_type": "stream",
          "name": "stdout",
          "text": [
            "2 4 6 8 10 12 14 16 18 20 "
          ]
        }
      ]
    },
    {
      "cell_type": "code",
      "source": [
        "num = 10\n",
        "\n",
        "while num <= 50 :\n",
        "    if num % 3 != 0 :\n",
        "        print(num, end = ' ')\n",
        "    num += 1"
      ],
      "metadata": {
        "colab": {
          "base_uri": "https://localhost:8080/"
        },
        "id": "0-_SDVo5H6e_",
        "outputId": "4cddcbb5-300a-4afe-9847-fddef5641aa4"
      },
      "execution_count": null,
      "outputs": [
        {
          "output_type": "stream",
          "name": "stdout",
          "text": [
            "10 11 13 14 16 17 19 20 22 23 25 26 28 29 31 32 34 35 37 38 40 41 43 44 46 47 49 50 "
          ]
        }
      ]
    },
    {
      "cell_type": "code",
      "source": [
        "pw = ''\n",
        "while pw != \"python\" :\n",
        "    pw = input(\"암호 입력 :\")\n",
        "print(\"로그인 성공\") "
      ],
      "metadata": {
        "colab": {
          "base_uri": "https://localhost:8080/"
        },
        "id": "DtBhviURIw_Q",
        "outputId": "a64dbc48-8363-42ac-c356-58866c419bcf"
      },
      "execution_count": null,
      "outputs": [
        {
          "output_type": "stream",
          "name": "stdout",
          "text": [
            "암호 입력 :java\n",
            "암호 입력 :c\n",
            "암호 입력 :python\n",
            "로그인 성공\n"
          ]
        }
      ]
    },
    {
      "cell_type": "code",
      "source": [
        "answer = random.randint(1, 100)\n",
        "guess = ''\n",
        "cnt = 0\n",
        "print(\"정답 : %d\" %(answer))\n",
        "print(\"1부터 100사이의 숫자를 맞추기\")\n",
        "\n",
        "while guess != answer :\n",
        "    guess = int(input(\"숫자를 맞춰 보세요 : \"))\n",
        "    if guess < answer :\n",
        "        print(\"낮음\")\n",
        "        cnt += 1\n",
        "    elif guess > answer :\n",
        "        print(\"높음\")\n",
        "        cnt += 1\n",
        "print(\"축하합니다. 시도횟수 = %d\" %(cnt+1))"
      ],
      "metadata": {
        "colab": {
          "base_uri": "https://localhost:8080/"
        },
        "id": "Q4794QcBJ4Yv",
        "outputId": "43a0e7ff-dfc9-4aba-c8a9-6fb347872190"
      },
      "execution_count": null,
      "outputs": [
        {
          "output_type": "stream",
          "name": "stdout",
          "text": [
            "정답 : 73\n",
            "1부터 100사이의 숫자를 맞추기\n",
            "숫자를 맞춰 보세요 : 73\n",
            "축하합니다. 시도횟수 = 1\n"
          ]
        }
      ]
    },
    {
      "cell_type": "code",
      "source": [
        "for i in [1,2,3] :\n",
        "    print(\"안녕하세요\")"
      ],
      "metadata": {
        "colab": {
          "base_uri": "https://localhost:8080/"
        },
        "id": "OAJvFU1hOYSD",
        "outputId": "9adf4ce8-23ff-45b0-aa7e-b11461fd9018"
      },
      "execution_count": null,
      "outputs": [
        {
          "output_type": "stream",
          "name": "stdout",
          "text": [
            "안녕하세요\n",
            "안녕하세요\n",
            "안녕하세요\n"
          ]
        }
      ]
    },
    {
      "cell_type": "code",
      "source": [
        "for i in range(10) :\n",
        "    print(i, end = \" \")"
      ],
      "metadata": {
        "colab": {
          "base_uri": "https://localhost:8080/"
        },
        "id": "ZOeYFjdSOm8J",
        "outputId": "37ad564e-af57-4aaf-e7e1-628a3dda41fb"
      },
      "execution_count": null,
      "outputs": [
        {
          "output_type": "stream",
          "name": "stdout",
          "text": [
            "0 1 2 3 4 5 6 7 8 9 "
          ]
        }
      ]
    },
    {
      "cell_type": "code",
      "source": [
        "for i in range(1, 11) :\n",
        "    print(i, end = \" \")"
      ],
      "metadata": {
        "colab": {
          "base_uri": "https://localhost:8080/"
        },
        "id": "Vk--EG8jO0bj",
        "outputId": "c5173f36-51b5-4bac-bab8-5b86561a74e8"
      },
      "execution_count": null,
      "outputs": [
        {
          "output_type": "stream",
          "name": "stdout",
          "text": [
            "1 2 3 4 5 6 7 8 9 10 "
          ]
        }
      ]
    },
    {
      "cell_type": "code",
      "source": [
        "for i in range(1, 10, 2) :\n",
        "    print(i, end = \" \")"
      ],
      "metadata": {
        "colab": {
          "base_uri": "https://localhost:8080/"
        },
        "id": "16q9Iw2LO9Wb",
        "outputId": "9be4c65c-a002-4887-c547-95213550736e"
      },
      "execution_count": null,
      "outputs": [
        {
          "output_type": "stream",
          "name": "stdout",
          "text": [
            "1 3 5 7 9 "
          ]
        }
      ]
    },
    {
      "cell_type": "code",
      "source": [
        "for i in range(20, 0, -2) :\n",
        "    print(i, end = \" \")"
      ],
      "metadata": {
        "colab": {
          "base_uri": "https://localhost:8080/"
        },
        "id": "nqFEW9n_PFrK",
        "outputId": "df159cf3-5c6a-455f-f32a-6106f5d46609"
      },
      "execution_count": null,
      "outputs": [
        {
          "output_type": "stream",
          "name": "stdout",
          "text": [
            "20 18 16 14 12 10 8 6 4 2 "
          ]
        }
      ]
    },
    {
      "cell_type": "code",
      "source": [
        "for i in range(3) :\n",
        "    print(\"안녕하세요\")"
      ],
      "metadata": {
        "colab": {
          "base_uri": "https://localhost:8080/"
        },
        "id": "_18RKonIPaex",
        "outputId": "8a448ab8-6336-411d-a5b7-5445d5579326"
      },
      "execution_count": null,
      "outputs": [
        {
          "output_type": "stream",
          "name": "stdout",
          "text": [
            "안녕하세요\n",
            "안녕하세요\n",
            "안녕하세요\n"
          ]
        }
      ]
    },
    {
      "cell_type": "code",
      "source": [
        "a = 10\n",
        "for num in range(1, 5, 2) :\n",
        "    a += num\n",
        "print(a)"
      ],
      "metadata": {
        "colab": {
          "base_uri": "https://localhost:8080/"
        },
        "id": "JVpwy6oaPrPs",
        "outputId": "0c2f2751-e6d4-4f6f-9e72-22d8f6c32f5c"
      },
      "execution_count": null,
      "outputs": [
        {
          "output_type": "stream",
          "name": "stdout",
          "text": [
            "14\n"
          ]
        }
      ]
    },
    {
      "cell_type": "code",
      "source": [
        "for student in range(1, 4) :\n",
        "    print(\"%d 번째 학생의 성적 처리\" %(student))"
      ],
      "metadata": {
        "colab": {
          "base_uri": "https://localhost:8080/"
        },
        "id": "WC2-fY-VQSOC",
        "outputId": "8746f74a-436e-40f9-fbb9-6006893c1a7b"
      },
      "execution_count": null,
      "outputs": [
        {
          "output_type": "stream",
          "name": "stdout",
          "text": [
            "1 번째 학생의 성적 처리\n",
            "2 번째 학생의 성적 처리\n",
            "3 번째 학생의 성적 처리\n"
          ]
        }
      ]
    }
  ]
}