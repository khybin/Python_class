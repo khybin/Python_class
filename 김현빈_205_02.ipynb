{
  "nbformat": 4,
  "nbformat_minor": 0,
  "metadata": {
    "colab": {
      "provenance": [],
      "include_colab_link": true
    },
    "kernelspec": {
      "name": "python3",
      "display_name": "Python 3"
    },
    "language_info": {
      "name": "python"
    }
  },
  "cells": [
    {
      "cell_type": "markdown",
      "metadata": {
        "id": "view-in-github",
        "colab_type": "text"
      },
      "source": [
        "<a href=\"https://colab.research.google.com/github/khybin/Python_class/blob/master/%EA%B9%80%ED%98%84%EB%B9%88_205_02.ipynb\" target=\"_parent\"><img src=\"https://colab.research.google.com/assets/colab-badge.svg\" alt=\"Open In Colab\"/></a>"
      ]
    },
    {
      "cell_type": "code",
      "execution_count": null,
      "metadata": {
        "colab": {
          "base_uri": "https://localhost:8080/"
        },
        "id": "HW_qdN8trj-7",
        "outputId": "f0c5b6e7-0e1f-4778-d997-25187e50c1a4"
      },
      "outputs": [
        {
          "output_type": "stream",
          "name": "stdout",
          "text": [
            "100\n",
            "<class 'int'>\n"
          ]
        }
      ],
      "source": [
        "score = 100\n",
        "print(score)\n",
        "print(type(score))"
      ]
    },
    {
      "cell_type": "code",
      "source": [
        "score = 'high'\n",
        "print(score)\n",
        "print(type(score))"
      ],
      "metadata": {
        "colab": {
          "base_uri": "https://localhost:8080/"
        },
        "id": "brBa_4vwu0kn",
        "outputId": "b89fa654-ce11-46f9-d1c1-02fd256adc3f"
      },
      "execution_count": null,
      "outputs": [
        {
          "output_type": "stream",
          "name": "stdout",
          "text": [
            "high\n",
            "<class 'str'>\n"
          ]
        }
      ]
    },
    {
      "cell_type": "code",
      "source": [
        "age = input('몇 살이세요? ')\n",
        "age = int(age)\n",
        "print(age + age)"
      ],
      "metadata": {
        "colab": {
          "base_uri": "https://localhost:8080/"
        },
        "id": "g1WIOGv6u--H",
        "outputId": "a5c0cd52-b19d-413a-d894-8b85676f226e"
      },
      "execution_count": null,
      "outputs": [
        {
          "output_type": "stream",
          "name": "stdout",
          "text": [
            "몇 살이세요? 18\n",
            "36\n"
          ]
        }
      ]
    },
    {
      "cell_type": "code",
      "source": [
        "price = input('가격을 입력하세요 : ')\n",
        "num = input('개수를 입력하세요 : ')\n",
        "sum = int(price) * int(num)\n",
        "print('총액은', sum, '원입니다')"
      ],
      "metadata": {
        "colab": {
          "base_uri": "https://localhost:8080/"
        },
        "id": "4RpJiXuzvIq7",
        "outputId": "1e4bd74a-3875-4b58-988d-b40394340fa3"
      },
      "execution_count": null,
      "outputs": [
        {
          "output_type": "stream",
          "name": "stdout",
          "text": [
            "가격을 입력하세요 : 100\n",
            "개수를 입력하세요 : 5\n",
            "총액은 500 원입니다\n"
          ]
        }
      ]
    },
    {
      "cell_type": "code",
      "source": [
        "width = int(input('사각형의 가로: '))\n",
        "height = int(input('사각형의 세로: '))\n",
        "result = width * height\n",
        "print('사각형의 면적은', result, '입니다.')"
      ],
      "metadata": {
        "colab": {
          "base_uri": "https://localhost:8080/"
        },
        "id": "bxXmGgGzvp9v",
        "outputId": "67755732-f488-4005-f2b8-32f314e15416"
      },
      "execution_count": null,
      "outputs": [
        {
          "output_type": "stream",
          "name": "stdout",
          "text": [
            "사각형의 가로: 5\n",
            "사각형의 세로: 10\n",
            "사각형의 면적은 50 입니다.\n"
          ]
        }
      ]
    },
    {
      "cell_type": "code",
      "source": [
        "name = input('이름? ')\n",
        "year = int(input('태어난 해는? '))\n",
        "age = 2023 - year + 1\n",
        "print(name, ' 님의 나이는 ', age, '세 입니다.', sep = '')"
      ],
      "metadata": {
        "colab": {
          "base_uri": "https://localhost:8080/"
        },
        "id": "8YQHiA_bwqL3",
        "outputId": "f0761cc7-647b-43d5-f3a4-4b7b02b5cff2"
      },
      "execution_count": null,
      "outputs": [
        {
          "output_type": "stream",
          "name": "stdout",
          "text": [
            "이름? 현빈\n",
            "태어난 해는? 2006\n",
            "현빈 님의 나이는 18세 입니다.\n"
          ]
        }
      ]
    },
    {
      "cell_type": "code",
      "source": [
        "price = int(input('물건의 가격?: '))\n",
        "num = int(input('물건의 개수?: '))\n",
        "tol = int(input('지불한 돈?: '))\n",
        "print('거스름돈은', tol - (price * num), '원입니다.')"
      ],
      "metadata": {
        "colab": {
          "base_uri": "https://localhost:8080/"
        },
        "id": "hJP2Xa96y1Lt",
        "outputId": "fe6b3d54-8fe9-4b58-f0fd-2f42ac7dce75"
      },
      "execution_count": null,
      "outputs": [
        {
          "output_type": "stream",
          "name": "stdout",
          "text": [
            "물건의 가격?: 500\n",
            "물건의 개수?: 4\n",
            "지불한 돈?: 5000\n",
            "거스름돈은 3000 원입니다.\n"
          ]
        }
      ]
    },
    {
      "cell_type": "code",
      "source": [
        "num = 123456789\n",
        "print(num)\n",
        "print(type(num))"
      ],
      "metadata": {
        "colab": {
          "base_uri": "https://localhost:8080/"
        },
        "id": "mwjmxbeq6Owy",
        "outputId": "9993a5ed-e2c5-4c24-f4a8-ba5947b3df05"
      },
      "execution_count": null,
      "outputs": [
        {
          "output_type": "stream",
          "name": "stdout",
          "text": [
            "123456789\n",
            "<class 'int'>\n"
          ]
        }
      ]
    },
    {
      "cell_type": "code",
      "source": [
        "num = -20909\n",
        "print(num)\n",
        "print(type(num))"
      ],
      "metadata": {
        "colab": {
          "base_uri": "https://localhost:8080/"
        },
        "id": "bT1IaesK6Y5C",
        "outputId": "4e944e64-5180-4772-aacb-6fa16658a824"
      },
      "execution_count": null,
      "outputs": [
        {
          "output_type": "stream",
          "name": "stdout",
          "text": [
            "-20909\n",
            "<class 'int'>\n"
          ]
        }
      ]
    },
    {
      "cell_type": "code",
      "source": [
        "a = 1.5\n",
        "b = -3.5\n",
        "print (a, b)\n",
        "print(type(a), type(b))"
      ],
      "metadata": {
        "colab": {
          "base_uri": "https://localhost:8080/"
        },
        "id": "a_jHjCTI6haO",
        "outputId": "b7f3202c-50d6-4fa6-848c-bc4d6a5e16e7"
      },
      "execution_count": null,
      "outputs": [
        {
          "output_type": "stream",
          "name": "stdout",
          "text": [
            "1.5 -3.5\n",
            "<class 'float'> <class 'float'>\n"
          ]
        }
      ]
    },
    {
      "cell_type": "code",
      "source": [
        "x = 3.3764\n",
        "y = 6/2\n",
        "print(x, y)\n",
        "print(type(x), type(y))"
      ],
      "metadata": {
        "colab": {
          "base_uri": "https://localhost:8080/"
        },
        "id": "3yLp2pK86xA7",
        "outputId": "1e1c8d1d-4d25-4a74-9129-825b43c6be6d"
      },
      "execution_count": null,
      "outputs": [
        {
          "output_type": "stream",
          "name": "stdout",
          "text": [
            "3.3764 3.0\n",
            "<class 'float'> <class 'float'>\n"
          ]
        }
      ]
    },
    {
      "cell_type": "code",
      "source": [
        "a = 30\n",
        "print(a)\n",
        "print(type(a))\n",
        "\n",
        "b = '30'\n",
        "print(b)\n",
        "print(type(b))"
      ],
      "metadata": {
        "colab": {
          "base_uri": "https://localhost:8080/"
        },
        "id": "xuklAzTP7RBm",
        "outputId": "9c598818-2017-4a9a-e617-3c8d915ff97a"
      },
      "execution_count": null,
      "outputs": [
        {
          "output_type": "stream",
          "name": "stdout",
          "text": [
            "30\n",
            "<class 'int'>\n",
            "30\n",
            "<class 'str'>\n"
          ]
        }
      ]
    },
    {
      "cell_type": "code",
      "source": [
        "print('I say \"Hello\" to you')"
      ],
      "metadata": {
        "colab": {
          "base_uri": "https://localhost:8080/"
        },
        "id": "ftc4IiLa_dLo",
        "outputId": "0da486c6-d5f8-4ac0-f112-58b38b742455"
      },
      "execution_count": null,
      "outputs": [
        {
          "output_type": "stream",
          "name": "stdout",
          "text": [
            "I say \"Hello\" to you\n"
          ]
        }
      ]
    },
    {
      "cell_type": "code",
      "source": [
        "a = 5\n",
        "b = a == 5\n",
        "print(b)"
      ],
      "metadata": {
        "colab": {
          "base_uri": "https://localhost:8080/"
        },
        "id": "Xoonid4X7fdi",
        "outputId": "6bc46379-3b01-4549-d645-31fe603863c0"
      },
      "execution_count": null,
      "outputs": [
        {
          "output_type": "stream",
          "name": "stdout",
          "text": [
            "True\n"
          ]
        }
      ]
    },
    {
      "cell_type": "code",
      "source": [
        "if a == 5:\n",
        "  print(\"a는 5\")"
      ],
      "metadata": {
        "colab": {
          "base_uri": "https://localhost:8080/"
        },
        "id": "i3zg5iDl7lE-",
        "outputId": "52a407ec-d8cc-475e-dc12-541b2f8bd70d"
      },
      "execution_count": null,
      "outputs": [
        {
          "output_type": "stream",
          "name": "stdout",
          "text": [
            "a는 5\n"
          ]
        }
      ]
    },
    {
      "cell_type": "code",
      "source": [
        "a = input('첫 번째 숫자를 입력하세요: ')\n",
        "b = input('두 번째 숫자를 입력하세요: ')\n",
        "c = a + b\n",
        "print(c)"
      ],
      "metadata": {
        "colab": {
          "base_uri": "https://localhost:8080/"
        },
        "id": "Li-8Of_H-XbJ",
        "outputId": "59d502d3-4a3c-4417-bd43-f6f3c56ba7dd"
      },
      "execution_count": null,
      "outputs": [
        {
          "output_type": "stream",
          "name": "stdout",
          "text": [
            "첫 번째 숫자를 입력하세요: 1\n",
            "두 번째 숫자를 입력하세요: 2\n",
            "12\n"
          ]
        }
      ]
    },
    {
      "cell_type": "code",
      "source": [
        "a = input('첫 번째 숫자를 입력하세요: ')\n",
        "b = input('두 번째 숫자를 입력하세요: ')\n",
        "c = int(a) + int(b)\n",
        "print(c)"
      ],
      "metadata": {
        "colab": {
          "base_uri": "https://localhost:8080/"
        },
        "id": "CiMTKlJ7_FvY",
        "outputId": "48ffd5bf-ccde-418a-8fa5-c3c1d065103c"
      },
      "execution_count": null,
      "outputs": [
        {
          "output_type": "stream",
          "name": "stdout",
          "text": [
            "첫 번째 숫자를 입력하세요: 10\n",
            "두 번째 숫자를 입력하세요: 20\n",
            "30\n"
          ]
        }
      ]
    },
    {
      "cell_type": "code",
      "source": [
        "inch = float(input('인치를 입력하세요 : '))\n",
        "cm = inch * 2.54\n",
        "print('센치미터: ', cm, 'cm', sep = '')"
      ],
      "metadata": {
        "colab": {
          "base_uri": "https://localhost:8080/"
        },
        "id": "D_rCI6iG_5a1",
        "outputId": "b34dc573-e2b7-42b7-8c5d-b8b8f97416bd"
      },
      "execution_count": null,
      "outputs": [
        {
          "output_type": "stream",
          "name": "stdout",
          "text": [
            "인치를 입력하세요 : 3.5\n",
            "센치미터: 8.89cm\n"
          ]
        }
      ]
    },
    {
      "cell_type": "code",
      "source": [
        "r = int(input('반지름은? : '))\n",
        "print('반지름이 ', r, '인 원의 둘레는 ', 2 * 3.14 * r, ' 이고, 면적은 ', r * r * 3.14, ' 이다.', sep = '')"
      ],
      "metadata": {
        "colab": {
          "base_uri": "https://localhost:8080/"
        },
        "id": "QmmjYjWWANxo",
        "outputId": "9face986-a308-4f03-ca89-3df149ad4ac2"
      },
      "execution_count": null,
      "outputs": [
        {
          "output_type": "stream",
          "name": "stdout",
          "text": [
            "반지름은? : 5\n",
            "반지름이 5인 원의 둘레는 31.400000000000002 이고, 면적은 78.5 이다.\n"
          ]
        }
      ]
    },
    {
      "cell_type": "code",
      "source": [
        "l = int(input('현재 키는? '))\n",
        "al = int(input('5개월 후의 목표 키는? '))\n",
        "print('한달에 ', (al - l) / 5.0, 'cm씩 성장해 보세요!')"
      ],
      "metadata": {
        "colab": {
          "base_uri": "https://localhost:8080/"
        },
        "id": "hwbljwi4BW3A",
        "outputId": "122733ed-68d4-4b7b-a4e3-587991b73ce9"
      },
      "execution_count": null,
      "outputs": [
        {
          "output_type": "stream",
          "name": "stdout",
          "text": [
            "현재 키는? 160\n",
            "5개월 후의 목표 키는? 168\n",
            "한달에  1.6 cm씩 성장해 보세요!\n"
          ]
        }
      ]
    },
    {
      "cell_type": "code",
      "source": [
        "book = int(input('책 값 : '))\n",
        "discount = float(input('할인율(%) : '))\n",
        "delivery = int(input('배송비 : '))\n",
        "print('결제하실 금액은', book - book * (discount / 100) + delivery, '원 입니다.' )"
      ],
      "metadata": {
        "colab": {
          "base_uri": "https://localhost:8080/"
        },
        "id": "yTNGnyXxDtX7",
        "outputId": "1ae64b15-f729-422a-a69a-34eb3d8a25c3"
      },
      "execution_count": null,
      "outputs": [
        {
          "output_type": "stream",
          "name": "stdout",
          "text": [
            "책 값 : 3000\n",
            "할인율(%) : 20\n",
            "배송비 : 3000\n",
            "결제하실 금액은 5400.0 원 입니다.\n"
          ]
        }
      ]
    },
    {
      "cell_type": "code",
      "source": [
        "sub1 = int(input('첫 번째 과목: '))\n",
        "sub2 = int(input('두 번째 과목: '))\n",
        "sum = sub1 + sub2\n",
        "avg = sum / 2.0\n",
        "\n"
      ],
      "metadata": {
        "id": "oBngggQBFifU"
      },
      "execution_count": null,
      "outputs": []
    }
  ]
}