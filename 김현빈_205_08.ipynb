{
  "nbformat": 4,
  "nbformat_minor": 0,
  "metadata": {
    "colab": {
      "provenance": [],
      "include_colab_link": true
    },
    "kernelspec": {
      "name": "python3",
      "display_name": "Python 3"
    },
    "language_info": {
      "name": "python"
    }
  },
  "cells": [
    {
      "cell_type": "markdown",
      "metadata": {
        "id": "view-in-github",
        "colab_type": "text"
      },
      "source": [
        "<a href=\"https://colab.research.google.com/github/khybin/Python_class/blob/master/%EA%B9%80%ED%98%84%EB%B9%88_205_08.ipynb\" target=\"_parent\"><img src=\"https://colab.research.google.com/assets/colab-badge.svg\" alt=\"Open In Colab\"/></a>"
      ]
    },
    {
      "cell_type": "code",
      "execution_count": null,
      "metadata": {
        "id": "gV1kfQgCVyKH",
        "colab": {
          "base_uri": "https://localhost:8080/"
        },
        "outputId": "b820590d-0040-4459-c447-6cef2764fc90"
      },
      "outputs": [
        {
          "output_type": "stream",
          "name": "stdout",
          "text": [
            "88 95 70 100 \n",
            "99 100 70 95 "
          ]
        }
      ],
      "source": [
        "score = [88, 95, 70, 100, 99]\n",
        "print(score[0], end = ' ')\n",
        "print(score[1], end = ' ')\n",
        "print(score[2], end = ' ')\n",
        "print(score[3], end = ' ')\n",
        "print()\n",
        "print(score[-1], end = ' ')\n",
        "print(score[-2], end = ' ')\n",
        "print(score[-3], end = ' ')\n",
        "print(score[-4], end = ' ')"
      ]
    },
    {
      "cell_type": "code",
      "source": [
        "score = [88, 95, 70, 100, 99]\n",
        "score[0] = 10\n",
        "score[1] = 20\n",
        "score[2] = 30\n",
        "\n",
        "score[-2] = 40\n",
        "score[-1] = 50\n",
        "print(score)"
      ],
      "metadata": {
        "colab": {
          "base_uri": "https://localhost:8080/"
        },
        "id": "bJNbjeM8LdKr",
        "outputId": "4a91009c-c1b7-4578-ebc7-fcb988178260"
      },
      "execution_count": null,
      "outputs": [
        {
          "output_type": "stream",
          "name": "stdout",
          "text": [
            "[10, 20, 30, 40, 50]\n"
          ]
        }
      ]
    },
    {
      "cell_type": "code",
      "source": [
        "animals = ['토끼', '거북이', '사자', '호랑이']\n",
        "\n",
        "i = 0\n",
        "while i < len(animals) :\n",
        "    print(animals[i])\n",
        "    i += 1"
      ],
      "metadata": {
        "colab": {
          "base_uri": "https://localhost:8080/"
        },
        "id": "-B-Tj4Y3LvA1",
        "outputId": "e6d9d511-c7d9-49ae-cbad-6edf3cd0d457"
      },
      "execution_count": null,
      "outputs": [
        {
          "output_type": "stream",
          "name": "stdout",
          "text": [
            "토끼\n",
            "거북이\n",
            "사자\n",
            "호랑이\n"
          ]
        }
      ]
    },
    {
      "cell_type": "code",
      "source": [
        "nums = [0,1,2,3,4,5,6,7,8,9]    # [ 시작 : 끝 : 간격]\n",
        "print(nums[2:5:1])  # nums[2] ~ nums[4] +1씩\n",
        "print(nums[1:7:2])  # nums[1] ~ nums[6] +2씩 -> nums[1], nums[3], nums[5]\n",
        "print(nums[0:5:2])"
      ],
      "metadata": {
        "colab": {
          "base_uri": "https://localhost:8080/"
        },
        "id": "fB1zgmwIMH5l",
        "outputId": "da00afd0-bbbd-4b7b-f193-4cd8fc038703"
      },
      "execution_count": null,
      "outputs": [
        {
          "output_type": "stream",
          "name": "stdout",
          "text": [
            "[2, 3, 4]\n",
            "[1, 3, 5]\n",
            "[0, 2, 4]\n"
          ]
        }
      ]
    },
    {
      "cell_type": "code",
      "source": [
        "nums = [0,1,2,3,4,5,6,7,8,9]\n",
        "print(nums[:5:1])   # 시작 값이 없다면 맨 앞에서부터 슬라이싱한다.\n",
        "print(nums[:7:2])  \n",
        "print(nums[:5:2])"
      ],
      "metadata": {
        "colab": {
          "base_uri": "https://localhost:8080/"
        },
        "id": "SchAPNKmMyB0",
        "outputId": "94719c81-a2ba-412f-afc3-f77b65a9e8ec"
      },
      "execution_count": null,
      "outputs": [
        {
          "output_type": "stream",
          "name": "stdout",
          "text": [
            "[0, 1, 2, 3, 4]\n",
            "[0, 2, 4, 6]\n",
            "[0, 2, 4]\n"
          ]
        }
      ]
    },
    {
      "cell_type": "code",
      "source": [
        "nums = [0,1,2,3,4,5,6,7,8,9]\n",
        "print(nums[2::1])   # 끝 값이 없다면 맨 끝까지 슬라이싱한다.\n",
        "print(nums[1::2])  \n",
        "print(nums[0::2])"
      ],
      "metadata": {
        "colab": {
          "base_uri": "https://localhost:8080/"
        },
        "id": "p_qoYCLCNCZ8",
        "outputId": "73613cfb-5935-484c-afe6-9c8ba4e014cd"
      },
      "execution_count": null,
      "outputs": [
        {
          "output_type": "stream",
          "name": "stdout",
          "text": [
            "[2, 3, 4, 5, 6, 7, 8, 9]\n",
            "[1, 3, 5, 7, 9]\n",
            "[0, 2, 4, 6, 8]\n"
          ]
        }
      ]
    },
    {
      "cell_type": "code",
      "source": [
        "nums = [0,1,2,3,4,5,6,7,8,9]\n",
        "print(nums[2:5])   # 간격 값이 없다면 1개 간격씩 슬라이싱한다.\n",
        "print(nums[1:7])  \n",
        "print(nums[0:5])"
      ],
      "metadata": {
        "colab": {
          "base_uri": "https://localhost:8080/"
        },
        "id": "mUscEU98NL_M",
        "outputId": "002dadb7-e8e3-4326-ab10-8ef474551758"
      },
      "execution_count": null,
      "outputs": [
        {
          "output_type": "stream",
          "name": "stdout",
          "text": [
            "[2, 3, 4]\n",
            "[1, 2, 3, 4, 5, 6]\n",
            "[0, 1, 2, 3, 4]\n"
          ]
        }
      ]
    },
    {
      "cell_type": "code",
      "source": [
        "fruits = ['사과', '오렌지', '딸기', '포도', '감', '키위', '멜론', '수박']\n",
        "print(fruits)\n",
        "print(fruits[0])\n",
        "print(fruits[1:4])\n",
        "print(fruits[2:])\n",
        "print(fruits[-1])\n",
        "print(fruits[-4:-2])\n",
        "print(fruits[-3:])"
      ],
      "metadata": {
        "colab": {
          "base_uri": "https://localhost:8080/"
        },
        "id": "8dZN1CfxNi50",
        "outputId": "97434e15-6c25-4d03-f67e-223af3cbce25"
      },
      "execution_count": null,
      "outputs": [
        {
          "output_type": "stream",
          "name": "stdout",
          "text": [
            "['사과', '오렌지', '딸기', '포도', '감', '키위', '멜론', '수박']\n",
            "사과\n",
            "['오렌지', '딸기', '포도']\n",
            "['딸기', '포도', '감', '키위', '멜론', '수박']\n",
            "수박\n",
            "['감', '키위']\n",
            "['키위', '멜론', '수박']\n"
          ]
        }
      ]
    },
    {
      "cell_type": "code",
      "source": [
        "my_list = list(\"PythonIsFun!\")\n",
        "print(my_list)\n",
        "print(my_list[5:11])\n",
        "print(my_list[-5:-2])\n",
        "print(my_list[:4])\n",
        "print(my_list[8:])"
      ],
      "metadata": {
        "colab": {
          "base_uri": "https://localhost:8080/"
        },
        "id": "81bBtiTZRU2_",
        "outputId": "7067382b-69aa-415c-a67a-8a59e98b0ad7"
      },
      "execution_count": null,
      "outputs": [
        {
          "output_type": "stream",
          "name": "stdout",
          "text": [
            "['P', 'y', 't', 'h', 'o', 'n', 'I', 's', 'F', 'u', 'n', '!']\n",
            "['n', 'I', 's', 'F', 'u', 'n']\n",
            "['s', 'F', 'u']\n",
            "['P', 'y', 't', 'h']\n",
            "['F', 'u', 'n', '!']\n"
          ]
        }
      ]
    },
    {
      "cell_type": "code",
      "source": [
        "s = \"python\"\n",
        "print(s[2])\n",
        "print(s[-2])\n",
        "print(s[1:4])"
      ],
      "metadata": {
        "colab": {
          "base_uri": "https://localhost:8080/"
        },
        "id": "DdwHgUWxRn6c",
        "outputId": "0d7152d6-86ce-4e3e-bc94-a2a9cfe3ac56"
      },
      "execution_count": null,
      "outputs": [
        {
          "output_type": "stream",
          "name": "stdout",
          "text": [
            "t\n",
            "o\n",
            "yth\n"
          ]
        }
      ]
    },
    {
      "cell_type": "code",
      "source": [
        "file = \"20210505-104830.jpg\"\n",
        "print(\"촬영 날짜: \" + file[4:6:] + \"월\" + file[6:8:] + \"일\")\n",
        "print(\"촬영 시간 \" + file[-10:-8:] + \"시\" + file[-8:-6:] + \"분\")\n",
        "print(\"확장자:\" + file[-3:])"
      ],
      "metadata": {
        "colab": {
          "base_uri": "https://localhost:8080/"
        },
        "id": "05eIski1OCDd",
        "outputId": "6b3cc8f2-30f5-424d-e4ff-943e76686442"
      },
      "execution_count": null,
      "outputs": [
        {
          "output_type": "stream",
          "name": "stdout",
          "text": [
            "촬영 날짜: 05월05일\n",
            "촬영 시간 10시48분\n",
            "확장자:jpg\n"
          ]
        }
      ]
    },
    {
      "cell_type": "code",
      "source": [
        "s = \"차종: 코란토C, 제조사:쌍용, 배기량: 1998\"\n",
        "print(s[-13:-11:])"
      ],
      "metadata": {
        "colab": {
          "base_uri": "https://localhost:8080/"
        },
        "id": "fseenvEXPSws",
        "outputId": "5f95d1e6-e573-4b09-9c43-488a02eef34d"
      },
      "execution_count": null,
      "outputs": [
        {
          "output_type": "stream",
          "name": "stdout",
          "text": [
            "쌍용\n"
          ]
        }
      ]
    },
    {
      "cell_type": "code",
      "source": [
        "jumin = \"901231-1914983\"\n",
        "year = jumin[0:2:]\n",
        "if int(jumin[7]) % 2 == 0 :\n",
        "    gender = \"여자\"\n",
        "else :\n",
        "    gender = \"남자\"\n",
        "print(\"{}년생 {}입니다.\".format(year, gender))"
      ],
      "metadata": {
        "colab": {
          "base_uri": "https://localhost:8080/"
        },
        "id": "MAkscmw_PyDk",
        "outputId": "b65dc57b-2ab1-4b85-e33e-0ef75bfa045f"
      },
      "execution_count": null,
      "outputs": [
        {
          "output_type": "stream",
          "name": "stdout",
          "text": [
            "90년생 남자입니다.\n"
          ]
        }
      ]
    },
    {
      "cell_type": "code",
      "source": [
        "# 요소 추가\n",
        "nums = [1,2,3,4]\n",
        "nums.append(5)\n",
        "print(nums)\n",
        "\n",
        "# 요소 삽입\n",
        "nums.insert(2,99)\n",
        "print(nums)"
      ],
      "metadata": {
        "colab": {
          "base_uri": "https://localhost:8080/"
        },
        "id": "_s8Td51MR7rU",
        "outputId": "1a2f094d-e450-432a-a2ec-b151eaf9bddf"
      },
      "execution_count": null,
      "outputs": [
        {
          "output_type": "stream",
          "name": "stdout",
          "text": [
            "[1, 2, 3, 4, 5]\n",
            "[1, 2, 99, 3, 4, 5]\n"
          ]
        }
      ]
    },
    {
      "cell_type": "code",
      "source": [
        "list1 = [1,2,3,4,5]\n",
        "list2 = [10, 11]\n",
        "list1.extend(list2)\n",
        "print(list1)"
      ],
      "metadata": {
        "colab": {
          "base_uri": "https://localhost:8080/"
        },
        "id": "Yvhxke3uSfvK",
        "outputId": "12b0fe3a-508d-4528-e029-981c4d730d40"
      },
      "execution_count": null,
      "outputs": [
        {
          "output_type": "stream",
          "name": "stdout",
          "text": [
            "[1, 2, 3, 4, 5, 10, 11]\n"
          ]
        }
      ]
    },
    {
      "cell_type": "code",
      "source": [
        "score = [88, 95, 70, 100, 99]\n",
        "print(\"100의 위치: \", score.index(100) + 1)\n",
        "\n",
        "print(score.pop())\n",
        "print(score.pop())\n",
        "print(score.pop(1))\n",
        "print(score)"
      ],
      "metadata": {
        "colab": {
          "base_uri": "https://localhost:8080/"
        },
        "id": "5rkfuqmzSqiL",
        "outputId": "c9ca3088-7fa7-493f-fd47-9b28d9d4faf1"
      },
      "execution_count": null,
      "outputs": [
        {
          "output_type": "stream",
          "name": "stdout",
          "text": [
            "100의 위치:  4\n",
            "99\n",
            "100\n",
            "95\n",
            "[88, 70]\n"
          ]
        }
      ]
    },
    {
      "cell_type": "code",
      "source": [
        "score = [88, 95, 70, 100, 99]\n",
        "\n",
        "score.remove(99)\n",
        "print(\"99삭제 후 :\", score)\n",
        "score.sort()\n",
        "print(\"리스트 정렬 후:\", score)\n",
        "score.sort(reverse=True)\n",
        "print(\"거꾸로 정렬:\", score)\n",
        "print(\"리스트 삭제:\", score)"
      ],
      "metadata": {
        "colab": {
          "base_uri": "https://localhost:8080/"
        },
        "id": "XRjOt-gqTNC8",
        "outputId": "d4ccc0d9-75be-46f5-dd16-f20c8dad5884"
      },
      "execution_count": null,
      "outputs": [
        {
          "output_type": "stream",
          "name": "stdout",
          "text": [
            "99삭제 후 : [88, 95, 70, 100]\n",
            "리스트 정렬 후: [70, 88, 95, 100]\n",
            "거꾸로 정렬: [100, 95, 88, 70]\n",
            "리스트 삭제: [100, 95, 88, 70]\n"
          ]
        }
      ]
    },
    {
      "cell_type": "code",
      "source": [
        "list1 = ['a', 'bb', 'c', 'd', 'aaa', 'c', 'ddd', 'aaa', 'b', 'cc', 'd', 'aaa',]\n",
        "length = list1.count('aaa')\n",
        "\n",
        "print(length)"
      ],
      "metadata": {
        "colab": {
          "base_uri": "https://localhost:8080/"
        },
        "id": "IihqZFF3VgEh",
        "outputId": "40295d4e-be8c-4628-dcb6-39b3baeb341a"
      },
      "execution_count": null,
      "outputs": [
        {
          "output_type": "stream",
          "name": "stdout",
          "text": [
            "3\n"
          ]
        }
      ]
    },
    {
      "cell_type": "code",
      "source": [
        "mylist = ['사과', '바나나', '파인애플']\n",
        "mylist.append('키위')\n",
        "mylist.append('배')\n",
        "\n",
        "for a in mylist :\n",
        "    print(a)"
      ],
      "metadata": {
        "colab": {
          "base_uri": "https://localhost:8080/"
        },
        "id": "HDeEjvqkT0v4",
        "outputId": "3ace4459-34b2-4517-f8e9-6fcc79b6e209"
      },
      "execution_count": null,
      "outputs": [
        {
          "output_type": "stream",
          "name": "stdout",
          "text": [
            "사과\n",
            "바나나\n",
            "파인애플\n",
            "키위\n",
            "배\n"
          ]
        }
      ]
    },
    {
      "cell_type": "code",
      "source": [
        "scores = []\n",
        "\n",
        "while True :\n",
        "    score = int(input(\"성적을 입력하세요(종료 : -1):\"))\n",
        "    if(score) == -1 :\n",
        "        break\n",
        "    else :\n",
        "        scores.append(score)\n",
        "print(scores)"
      ],
      "metadata": {
        "colab": {
          "base_uri": "https://localhost:8080/"
        },
        "id": "7FpDveRJV7Pn",
        "outputId": "14a3bd75-aafa-4d36-e3a4-286395314e81"
      },
      "execution_count": null,
      "outputs": [
        {
          "output_type": "stream",
          "name": "stdout",
          "text": [
            "성적을 입력하세요(종료 : -1):88\n",
            "성적을 입력하세요(종료 : -1):75\n",
            "성적을 입력하세요(종료 : -1):36\n",
            "성적을 입력하세요(종료 : -1):-1\n",
            "[88, 75, 36]\n"
          ]
        }
      ]
    },
    {
      "cell_type": "code",
      "source": [
        "num = []\n",
        "for i in range(5):\n",
        "    num.append(int(input(\"숫자입력하시오: \")))\n",
        "\n",
        "num.sort()\n",
        "print(num)"
      ],
      "metadata": {
        "colab": {
          "base_uri": "https://localhost:8080/"
        },
        "id": "XuxEnKnwWcyC",
        "outputId": "df36502d-0442-40cf-b291-7f218e66148a"
      },
      "execution_count": null,
      "outputs": [
        {
          "output_type": "stream",
          "name": "stdout",
          "text": [
            "숫자입력하시오: 5\n",
            "숫자입력하시오: 22\n",
            "숫자입력하시오: -5\n",
            "숫자입력하시오: 202\n",
            "숫자입력하시오: 25\n",
            "[-5, 5, 22, 25, 202]\n"
          ]
        }
      ]
    },
    {
      "cell_type": "code",
      "source": [
        "emails = [[\"kim\", \"naver.com\"], [\"hwang\", \"hanmai.net\"], [\"lee\", \"korea.com\"], [\"choi\", \"gmail.com\"]]\n",
        "\n",
        "email_new = []\n",
        "for email in emails : # email = [\"hwang\", \"hanmai.net\"]\n",
        "    email_new.append(email[0] + \"@\" + email[1])\n",
        "\n",
        "print(email_new)"
      ],
      "metadata": {
        "colab": {
          "base_uri": "https://localhost:8080/"
        },
        "id": "DGvgrifQW2bE",
        "outputId": "9ac515d9-ad98-4309-b9ae-d09ba8a9a974"
      },
      "execution_count": null,
      "outputs": [
        {
          "output_type": "stream",
          "name": "stdout",
          "text": [
            "['kim@naver.com', 'hwang@hanmai.net', 'lee@korea.com', 'choi@gmail.com']\n"
          ]
        }
      ]
    },
    {
      "cell_type": "code",
      "source": [
        "s = \"Hello\"\n",
        "for i in s :\n",
        "    print(i, end ='')"
      ],
      "metadata": {
        "colab": {
          "base_uri": "https://localhost:8080/"
        },
        "id": "uEv2pWbpc1HB",
        "outputId": "bf717f72-9359-40f2-b786-79741d0da5b8"
      },
      "execution_count": null,
      "outputs": [
        {
          "output_type": "stream",
          "name": "stdout",
          "text": [
            "Hello"
          ]
        }
      ]
    },
    {
      "cell_type": "code",
      "source": [
        "colors = ['빨간색', '파란색', '노란색', '초록색']\n",
        "\n",
        "for color in colors :\n",
        "    print(\"나는 %s을 좋아한다\" %(color))"
      ],
      "metadata": {
        "colab": {
          "base_uri": "https://localhost:8080/"
        },
        "id": "GGW18Bx4c9se",
        "outputId": "708b591f-9b34-44fd-b003-a17168c424fe"
      },
      "execution_count": null,
      "outputs": [
        {
          "output_type": "stream",
          "name": "stdout",
          "text": [
            "나는 빨간색을 좋아한다\n",
            "나는 파란색을 좋아한다\n",
            "나는 노란색을 좋아한다\n",
            "나는 초록색을 좋아한다\n"
          ]
        }
      ]
    },
    {
      "cell_type": "code",
      "source": [
        "numbers = [7, 9, 15, 18, 30, -3, 7, 12, -16, -12]\n",
        "sum"
      ],
      "metadata": {
        "id": "e8ZI7V6mdc0-"
      },
      "execution_count": null,
      "outputs": []
    }
  ]
}