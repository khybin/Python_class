{
  "nbformat": 4,
  "nbformat_minor": 0,
  "metadata": {
    "colab": {
      "provenance": [],
      "include_colab_link": true
    },
    "kernelspec": {
      "name": "python3",
      "display_name": "Python 3"
    },
    "language_info": {
      "name": "python"
    }
  },
  "cells": [
    {
      "cell_type": "markdown",
      "metadata": {
        "id": "view-in-github",
        "colab_type": "text"
      },
      "source": [
        "<a href=\"https://colab.research.google.com/github/khybin/Python_class/blob/master/%EA%B9%80%ED%98%84%EB%B9%88_205_04.ipynb\" target=\"_parent\"><img src=\"https://colab.research.google.com/assets/colab-badge.svg\" alt=\"Open In Colab\"/></a>"
      ]
    },
    {
      "cell_type": "code",
      "execution_count": null,
      "metadata": {
        "colab": {
          "base_uri": "https://localhost:8080/"
        },
        "id": "uXfWhHECzbrm",
        "outputId": "2232302b-ce58-4392-a7ee-27a2c3006c58"
      },
      "outputs": [
        {
          "output_type": "stream",
          "name": "stdout",
          "text": [
            "a입력:2\n",
            "b입력:4\n",
            "Okay\n"
          ]
        }
      ],
      "source": [
        "a = int(input(\"a입력:\"))\n",
        "b = int(input(\"b입력:\"))\n",
        "if a == 3 and b == 4 :\n",
        "    print(\"OK\")\n",
        "if a == 3 or b == 4 :\n",
        "    print(\"Okay\")"
      ]
    },
    {
      "cell_type": "code",
      "source": [
        "x = int(input(\"숫자입력:\"))     # 18을 입력\n",
        "if x > 10 and x % 2 == 0 :\n",
        "    print(\"10 초과 짝수\")"
      ],
      "metadata": {
        "colab": {
          "base_uri": "https://localhost:8080/"
        },
        "id": "h8SE6ohMz_u1",
        "outputId": "82b6ac09-744a-43e5-8553-fd75d09e5d90"
      },
      "execution_count": null,
      "outputs": [
        {
          "output_type": "stream",
          "name": "stdout",
          "text": [
            "숫자입력:18\n",
            "10 초과 짝수\n"
          ]
        }
      ]
    },
    {
      "cell_type": "code",
      "source": [
        "a = int(input(\"필기 성적을 입력하세요: \"))\n",
        "if a >= 80 :\n",
        "    print(\"합격\")\n",
        "else :\n",
        "    print(\"불합격\")"
      ],
      "metadata": {
        "colab": {
          "base_uri": "https://localhost:8080/"
        },
        "id": "txDE3cuG0T3m",
        "outputId": "7d650b14-7008-43fd-cf35-a1ea0f770054"
      },
      "execution_count": null,
      "outputs": [
        {
          "output_type": "stream",
          "name": "stdout",
          "text": [
            "필기 성적을 입력하세요: 50\n",
            "불합격\n"
          ]
        }
      ]
    },
    {
      "cell_type": "code",
      "source": [
        "age = int(input(\"몇 살이세요?: \"))\n",
        "if age >= 0 and age < 7 or age >= 65 :\n",
        "    print(\"입장료는 무료입니다.\")\n",
        "else :\n",
        "    print(\"입장료는 3000원 입니다.\")"
      ],
      "metadata": {
        "colab": {
          "base_uri": "https://localhost:8080/"
        },
        "id": "0SjQMtIr04Vu",
        "outputId": "52a4b6ef-c004-4928-ad73-181d95e733b3"
      },
      "execution_count": null,
      "outputs": [
        {
          "output_type": "stream",
          "name": "stdout",
          "text": [
            "몇 살이세요?: 77\n",
            "입장료는 무료입니다.\n"
          ]
        }
      ]
    },
    {
      "cell_type": "code",
      "source": [
        "age = int(input(\"나이 : \"))\n",
        "height = int(input(\"키 : \"))\n",
        "if age >= 10 and height >= 150 :\n",
        "    print(\"놀이기구를 탈 수 있다\")\n",
        "else :\n",
        "    print(\"놀이기구를 탈 수 없다\")"
      ],
      "metadata": {
        "colab": {
          "base_uri": "https://localhost:8080/"
        },
        "id": "IxusLp3Q1Wtm",
        "outputId": "7f3755cf-cc53-4816-a699-0a9e32c94b57"
      },
      "execution_count": null,
      "outputs": [
        {
          "output_type": "stream",
          "name": "stdout",
          "text": [
            "나이 : 10\n",
            "키 : 133\n",
            "놀이기구를 탈 수 없다\n"
          ]
        }
      ]
    },
    {
      "cell_type": "code",
      "source": [
        "id = input(\"아이디를 입력하세요: \")\n",
        "lv = int(input(\"회원 레벨을 입력하세요: \"))\n",
        "if id == \"admin\" or lv == 1 :\n",
        "    print(\"관리자입니다.\")\n",
        "else :\n",
        "    print(\"관리자가 아닙니다.\")"
      ],
      "metadata": {
        "colab": {
          "base_uri": "https://localhost:8080/"
        },
        "id": "X9Llwx5n1v9g",
        "outputId": "b3d11580-6e4c-449b-c2c7-9600a692d2d1"
      },
      "execution_count": null,
      "outputs": [
        {
          "output_type": "stream",
          "name": "stdout",
          "text": [
            "아이디를 입력하세요: happy\n",
            "회원 레벨을 입력하세요: 1\n",
            "관리자입니다.\n"
          ]
        }
      ]
    },
    {
      "cell_type": "code",
      "source": [
        "num = int(input(\"정수를 입력하세요: \"))\n",
        "if num >= 1 and num <= 100 :\n",
        "    print(num , \"은(는) 1~100사이에 있다\", sep = '')\n",
        "else :\n",
        "    print(num , \"은(는) 1~100사이에 없다\", sep = '')"
      ],
      "metadata": {
        "colab": {
          "base_uri": "https://localhost:8080/"
        },
        "id": "TxC6CDO-2Xqg",
        "outputId": "3be0cab3-2e49-48d3-adc4-966ff8dabd9a"
      },
      "execution_count": null,
      "outputs": [
        {
          "output_type": "stream",
          "name": "stdout",
          "text": [
            "정수를 입력하세요: 77\n",
            "77은(는) 1~100사이에 있다\n"
          ]
        }
      ]
    },
    {
      "cell_type": "code",
      "source": [
        "month = 3\n",
        "\n",
        "if 3 <= month <= 5 :\n",
        "    print(\"현재는 봄입니다.\")\n",
        "elif 6 <= month <= 8 :\n",
        "    print(\"현재는 여름입니다.\")\n",
        "elif 9 <= month <= 11 :\n",
        "    print(\"현재는 가을입니다.\")\n",
        "else :\n",
        "    print(\"현재는 겨울입니다.\")"
      ],
      "metadata": {
        "colab": {
          "base_uri": "https://localhost:8080/"
        },
        "id": "p84WaaWb59Xl",
        "outputId": "dd1579a3-6c27-4988-f7ad-e3b3d31435a3"
      },
      "execution_count": null,
      "outputs": [
        {
          "output_type": "stream",
          "name": "stdout",
          "text": [
            "현재는 봄입니다.\n"
          ]
        }
      ]
    },
    {
      "cell_type": "code",
      "source": [
        "money = int(input(\"구매금액: \"))\n",
        "if money >= 20000 :\n",
        "    if money >= 50000 :\n",
        "        print(\"무료배송입니다.\")\n",
        "    else :\n",
        "        print(\"배송비 2500원이 추가됩니다.\")\n",
        "else :\n",
        "    print(\"새벽배송이 불가능합니다.\")"
      ],
      "metadata": {
        "colab": {
          "base_uri": "https://localhost:8080/"
        },
        "id": "Z3IW6p196VwW",
        "outputId": "136c647b-8b71-49c6-da8b-733548c60a33"
      },
      "execution_count": null,
      "outputs": [
        {
          "output_type": "stream",
          "name": "stdout",
          "text": [
            "구매금액: 51000\n",
            "무료배송입니다.\n"
          ]
        }
      ]
    },
    {
      "cell_type": "code",
      "source": [
        "num = int(input(\"점수를 입력하세요: \"))\n",
        "if num >= 90 :\n",
        "    grade = 'A'\n",
        "elif 90 > num >= 80 :\n",
        "    grade = 'B'\n",
        "elif 80 > num >= 70 :\n",
        "    grade = 'C'\n",
        "else :\n",
        "    grade = 'F'\n",
        "print(grade, \"등급입니다.\")"
      ],
      "metadata": {
        "colab": {
          "base_uri": "https://localhost:8080/"
        },
        "id": "4MTURkaw7k3A",
        "outputId": "ea4f2f48-7a77-4446-c0d5-14bea9d35abb"
      },
      "execution_count": null,
      "outputs": [
        {
          "output_type": "stream",
          "name": "stdout",
          "text": [
            "점수를 입력하세요: 100\n",
            "A 등급입니다.\n"
          ]
        }
      ]
    },
    {
      "cell_type": "code",
      "source": [
        "num1 = int(input(\"첫 번째 수: \"))\n",
        "num2 = int(input(\"두 번째 수: \"))\n",
        "num3 = int(input(\"세 번째 수: \"))\n",
        "if num1 >= num2 and num1 >= num3 :\n",
        "    max = num1\n",
        "elif num1 >= num2 and num1 <= num3 :\n",
        "    max = num3\n",
        "elif num1 <= num2 and num2 >= num3 :\n",
        "    max = num2\n",
        "elif num1 <= num2 and num2 <= num3 :\n",
        "    max = num3\n",
        "print(\"가장 큰 수는\", max, \"입니다.\")"
      ],
      "metadata": {
        "colab": {
          "base_uri": "https://localhost:8080/"
        },
        "id": "N79c41n68kw8",
        "outputId": "0f86c273-9cb5-45f1-8dbb-d8d827164bff"
      },
      "execution_count": null,
      "outputs": [
        {
          "output_type": "stream",
          "name": "stdout",
          "text": [
            "첫 번째 수: 20\n",
            "두 번째 수: 20\n",
            "세 번째 수: 50\n",
            "가장 큰 수는 50 입니다.\n"
          ]
        }
      ]
    },
    {
      "cell_type": "code",
      "source": [
        "temp = int(input(\"온도를 입력하세요: \"))\n",
        "if temp < 0 :\n",
        "    print(\"물의 상태는 고체입니다.\")\n",
        "elif 0 <= temp < 100 :\n",
        "    print(\"물의 상태는 액체입니다.\")\n",
        "else :\n",
        "    print(\"물의 상태는 기체입니다.\")"
      ],
      "metadata": {
        "colab": {
          "base_uri": "https://localhost:8080/"
        },
        "id": "E-bz-oJG-ldm",
        "outputId": "fc51a620-1932-4972-f4e3-dc698799b7e1"
      },
      "execution_count": null,
      "outputs": [
        {
          "output_type": "stream",
          "name": "stdout",
          "text": [
            "온도를 입력하세요: -312\n",
            "물의 상태는 고체입니다.\n"
          ]
        }
      ]
    },
    {
      "cell_type": "code",
      "source": [
        "eng = int(input(\"영어시험 점수를 입력하세요 : \"))\n",
        "math = int(input(\"수학시험 점수를 입력하세요 : \"))\n",
        "if eng >= 80 and math >= 80 :\n",
        "    print(\"합격\")\n",
        "elif eng >= 80 or math >= 80 :\n",
        "    print(\"재시험 기회제공\")\n",
        "else :\n",
        "    print(\"탈락\")"
      ],
      "metadata": {
        "colab": {
          "base_uri": "https://localhost:8080/"
        },
        "id": "fvrbscpd_aoj",
        "outputId": "bcb81efb-b755-49c5-b689-f2334ef60633"
      },
      "execution_count": null,
      "outputs": [
        {
          "output_type": "stream",
          "name": "stdout",
          "text": [
            "영어시험 점수를 입력하세요 : 20\n",
            "수학시험 점수를 입력하세요 : 100\n",
            "재시험 기회제공\n"
          ]
        }
      ]
    },
    {
      "cell_type": "code",
      "source": [
        "serv = int(input(\"서비스가 어떠셨나요(예 : 1 또는 2 또는 3) : \"))\n",
        "price = int(input(\"음식값을 입력해 주세요(예:8000) : \"))\n",
        "\n",
        "if serv == 1 :\n",
        "    print(\"팁 : \", int(price * 0.2), \"원\", sep = '')\n",
        "elif serv == 2 :\n",
        "    print(\"팁 : \", int(price * 0.1), \"원\", sep = '')\n",
        "else :\n",
        "    print(\"팁 : \", int(price * 0.05), \"원\", sep = '')"
      ],
      "metadata": {
        "colab": {
          "base_uri": "https://localhost:8080/"
        },
        "id": "jOa5HO2_AQRW",
        "outputId": "25d83291-26da-4d7d-eec8-bda5bc89e9ac"
      },
      "execution_count": null,
      "outputs": [
        {
          "output_type": "stream",
          "name": "stdout",
          "text": [
            "서비스가 어떠셨나요(예 : 1 또는 2 또는 3) : 2\n",
            "음식값을 입력해 주세요(예:8000) : 9000\n",
            "팁 : 900원\n"
          ]
        }
      ]
    },
    {
      "cell_type": "code",
      "source": [
        "price = int(input(\"물건 구매가를 입력하세요 : \"))\n",
        "\n",
        "if 50000 > price >= 10000 :\n",
        "    dis = 5\n",
        "elif price >= 50000 :\n",
        "    dis = 7.5\n",
        "elif price >= 300000 :\n",
        "    dis = 10\n",
        "\n",
        "cnt = price * (dis/100)\n",
        "tol = price - cnt\n",
        "\n",
        "print(\"구매가 : \", price, \"원\", sep = '')\n",
        "print(\"할인율 : \", dis, \"%\", sep = '')\n",
        "print(\"할인금액 : \", int(cnt), \"원\", sep = '')\n",
        "print(\"지불금액 : \", int(tol), \"원\", sep = '')"
      ],
      "metadata": {
        "colab": {
          "base_uri": "https://localhost:8080/"
        },
        "id": "oGpFaY4sBvWm",
        "outputId": "0a74ef67-aa23-4f67-a3bd-be659b796587"
      },
      "execution_count": null,
      "outputs": [
        {
          "output_type": "stream",
          "name": "stdout",
          "text": [
            "물건 구매가를 입력하세요 : 60000\n",
            "구매가 : 60000원\n",
            "할인율 : 7.5%\n",
            "할인금액 : 4500원\n",
            "지불금액 : 55500원\n"
          ]
        }
      ]
    },
    {
      "cell_type": "code",
      "source": [
        "print(\"원하는 메뉴를 선택하세요.\")\n",
        "print(\"1. 떡볶이 3000원\")\n",
        "print(\"2. 김밥 2500원\")\n",
        "print(\"3. 튀김 3500원\")\n",
        "menu = int(input(\"번호선택 : \"))\n",
        "\n",
        "if menu == 1 :\n",
        "    print(\"당신은 떡볶이를 선택하셨군요!\")\n",
        "    num = int(input(\"떡볶이를 몇 인분 주문하시겠습니까? \"))\n",
        "    print(\"총 가격은 \", 3000 * num, \"원 입니다.\", sep = '')\n",
        "elif menu == 2 :\n",
        "    print(\"당신은 김밥을 선택하셨군요!\")\n",
        "    num = int(input(\"김밥을 몇 인분 주문하시겠습니까? \"))\n",
        "    print(\"총 가격은 \", 2500 * num, \"원 입니다.\", sep = '')\n",
        "elif menu == 3 :\n",
        "    print(\"당신은 튀김을 선택하셨군요!\")\n",
        "    num = int(input(\"튀김을 몇 인분 주문하시겠습니까? \"))\n",
        "    print(\"총 가격은 \", 3500 * num, \"원 입니다.\", sep = '')\n",
        "else :\n",
        "    print(\"1, 2, 3 중 하나를 선택해주세요\")"
      ],
      "metadata": {
        "colab": {
          "base_uri": "https://localhost:8080/"
        },
        "id": "R-m4HqgeDvhZ",
        "outputId": "d8c569e8-838c-47b0-a5b7-5b82bca79d9d"
      },
      "execution_count": null,
      "outputs": [
        {
          "output_type": "stream",
          "name": "stdout",
          "text": [
            "원하는 메뉴를 선택하세요.\n",
            "1. 떡볶이 3000원\n",
            "2. 김밥 2500원\n",
            "3. 튀김 3500원\n",
            "번호선택 : 1\n",
            "당신은 떡볶이를 선택하셨군요!\n",
            "떡볶이를 몇 인분 주문하시겠습니까? 3\n",
            "총 가격은 9000원 입니다.\n"
          ]
        }
      ]
    },
    {
      "cell_type": "code",
      "source": [
        "weight = int(input(\"체중을 입력하세요: \"))\n",
        "high = float(input(\"키를 입력하세요(m): \"))\n",
        "bmi = weight / high**2\n",
        "\n",
        "if 0 <= bmi <= 15 :\n",
        "    print(\"당신의 bmi지수는\", bmi, \"이며 정상입니다.\")\n",
        "elif 15 <= bmi <= 25 :\n",
        "    print(\"당신의 bmi지수는\", bmi, \"이며 과체중입니다.\")\n",
        "else :\n",
        "    print(\"당신의 bmi지수는\", bmi, \"이며 비만입니다.\")"
      ],
      "metadata": {
        "colab": {
          "base_uri": "https://localhost:8080/"
        },
        "id": "KUbGE-XYFKoZ",
        "outputId": "c91fd912-77c5-419d-9349-7bf27df63c8c"
      },
      "execution_count": null,
      "outputs": [
        {
          "output_type": "stream",
          "name": "stdout",
          "text": [
            "체중을 입력하세요: 88\n",
            "키를 입력하세요(m): 1.8\n",
            "당신의 bmi지수는 27.16049383 이며 비만입니다.\n"
          ]
        }
      ]
    },
    {
      "cell_type": "code",
      "source": [
        "weight = int(input(\"체중을 입력하세요: \"))\n",
        "high = int(input(\"키를 입력하세요(cm): \"))\n",
        "age = int(input(\"나이를 입력하세요: \"))\n",
        "gender = input(\"성별을 입력하세요: \")\n",
        "\n",
        "if gender == \"남자\" :\n",
        "    print(\"당신의 기초대사량은\", 66.47 + (13.75 * weight) + (5 * high) - (6.76 * age), \"입니다.\")\n",
        "elif gender == \"여자\" :\n",
        "    print(\"당신의 기초대사량은\", 665.1 + (9.56 * weight) + (1.85 * high) - (4.68 * age), \"입니다.\")\n",
        "else :\n",
        "    print(\"남자 / 여자 둘 중 하나를 입력해주세요.\")"
      ],
      "metadata": {
        "colab": {
          "base_uri": "https://localhost:8080/"
        },
        "id": "LiHRy9GQMgz3",
        "outputId": "dd8fa1d3-ad39-45b6-83a2-e16db38595af"
      },
      "execution_count": null,
      "outputs": [
        {
          "output_type": "stream",
          "name": "stdout",
          "text": [
            "체중을 입력하세요: 90\n",
            "키를 입력하세요(cm): 183\n",
            "나이를 입력하세요: 39\n",
            "성별을 입력하세요: 남자\n",
            "당신의 기초대사량은 1955.3300000000004 입니다.\n"
          ]
        }
      ]
    },
    {
      "cell_type": "code",
      "source": [
        "userid = input(\"아이디를 입력하세요: \")\n",
        "lv = int(input(\"회원 레벨을 입력하세요: \"))\n",
        "if userid == \"admin\" :\n",
        "    print(\"모든 콘텐츠 이용 가능\")\n",
        "elif 2 <= lv <= 7 :\n",
        "    print(\"일부 콘텐츠 이용 가능\")\n",
        "else :\n",
        "    print(\"콘텐츠 이용 불가능\")"
      ],
      "metadata": {
        "colab": {
          "base_uri": "https://localhost:8080/"
        },
        "id": "KcDcVZ-WNuUo",
        "outputId": "20f4fcf6-5756-4474-b036-9832a1b34765"
      },
      "execution_count": null,
      "outputs": [
        {
          "output_type": "stream",
          "name": "stdout",
          "text": [
            "아이디를 입력하세요: admin\n",
            "회원 레벨을 입력하세요: 1\n",
            "모든 콘텐츠 이용 가능\n"
          ]
        }
      ]
    },
    {
      "cell_type": "code",
      "source": [
        "year1 = int(input(\"현재년을 입력해 주세요 : \"))\n",
        "month1 = int(input(\"현재월을 입력해 주세요 : \"))\n",
        "day1 = int(input(\"현재일을 입력해 주세요 : \"))\n",
        "year2 = int(input(\"출생년을 입력해 주세요 : \"))\n",
        "month2 = int(input(\"출생월을 입력해 주세요 : \"))\n",
        "day2 = int(input(\"출생일을 입력해 주세요 : \"))\n",
        "\n",
        "print(\"---------------------------------\")\n",
        "print(\"오늘 날짜 : \", year1, \"년 \", month1, \"월 \", day1, \"일\", sep = '')\n",
        "print(\"생년 월일 : \", year2, \"년 \", month2, \"월 \", day2, \"일\", sep = '')\n",
        "print(\"---------------------------------\")\n",
        "\n",
        "if month2 < month1 :\n",
        "    print(\"만 나이 : \", year1 - year2, \"세\", sep = '')\n",
        "elif month2 == month1 :\n",
        "    if day2 < day1 :\n",
        "        print(\"만 나이 : \", year1 - year2, \"세\", sep = '')\n",
        "    else :\n",
        "        print(\"만 나이 : \", year1 - year2 - 1, \"세\", sep = '')\n",
        "else :\n",
        "    print(\"만 나이 : \", year1 - year2 - 1, \"세\", sep = '')\n",
        "print(\"---------------------------------\")"
      ],
      "metadata": {
        "colab": {
          "base_uri": "https://localhost:8080/"
        },
        "id": "vzhpyuSNOs_C",
        "outputId": "4fce4ee7-ab2d-4301-a838-cfc00e5b731e"
      },
      "execution_count": null,
      "outputs": [
        {
          "output_type": "stream",
          "name": "stdout",
          "text": [
            "현재년을 입력해 주세요 : 2020\n",
            "현재월을 입력해 주세요 : 1\n",
            "현재일을 입력해 주세요 : 27\n",
            "출생년을 입력해 주세요 : 1997\n",
            "출생월을 입력해 주세요 : 5\n",
            "출생일을 입력해 주세요 : 7\n",
            "---------------------------------\n",
            "오늘 날짜 : 2020년 1월 27일\n",
            "생년 월일 : 1997년 5월 7일\n",
            "---------------------------------\n",
            "만 나이 : 22세\n",
            "---------------------------------\n"
          ]
        }
      ]
    },
    {
      "cell_type": "code",
      "source": [
        "import datetime\n",
        "from pytz import timezone\n",
        "\n",
        "now = datetime.datetime.now(timezone('Asia/Seoul'))\n",
        "\n",
        "print(now)\n",
        "print(now.year)\n",
        "print(now.month)\n",
        "print(now.day)\n",
        "print(now.hour)\n",
        "print(now.minute)\n",
        "print(now.second)"
      ],
      "metadata": {
        "colab": {
          "base_uri": "https://localhost:8080/"
        },
        "id": "aMHlgagqVkpm",
        "outputId": "f8ebdaa7-0825-45e0-a62a-d4ee7903b449"
      },
      "execution_count": null,
      "outputs": [
        {
          "output_type": "stream",
          "name": "stdout",
          "text": [
            "2023-03-30 11:27:09.687120+09:00\n",
            "2023\n",
            "3\n",
            "30\n",
            "11\n",
            "27\n",
            "9\n"
          ]
        }
      ]
    },
    {
      "cell_type": "code",
      "source": [
        "import datetime\n",
        "from pytz import timezone\n",
        "\n",
        "now = datetime.datetime.now(timezone('Asia/Seoul'))\n",
        "\n",
        "hour = now.hour\n",
        "minute = now.minute\n",
        "\n",
        "if 12 > hour >= 0 :\n",
        "    time = \"오전\"\n",
        "else :\n",
        "    time = \"오후\"\n",
        "\n",
        "print(\"현재 시간은 %d시 %d분으로 %s입니다\" %(hour, minute, time))"
      ],
      "metadata": {
        "colab": {
          "base_uri": "https://localhost:8080/"
        },
        "id": "F0pEuDbmUDb4",
        "outputId": "56b88b60-87b7-4648-b6e8-43cafbf479ac"
      },
      "execution_count": null,
      "outputs": [
        {
          "output_type": "stream",
          "name": "stdout",
          "text": [
            "현재 시간은 11시 25분으로 오전입니다\n"
          ]
        }
      ]
    },
    {
      "cell_type": "code",
      "source": [
        "month = int(input(\"몇 월입니까?: \"))\n",
        "\n",
        "if 3 <= month <= 5 :\n",
        "    print(\"이번 달은 %d월로 봄입니다!\" %(month))\n",
        "elif 6 <= month <= 8 :\n",
        "    print(\"이번 달은 %d월로 여름입니다!\" %(month))\n",
        "elif 9 <= month <= 11 :\n",
        "    print(\"이번 달은 %d월로 가을입니다!\" %(month))\n",
        "elif 12 <= month <= 2 :\n",
        "    print(\"이번 달은 %d월로 겨울입니다!\" %(month))\n",
        "else :\n",
        "    print(\"%d월은 없는 달입니다.\" %(month))"
      ],
      "metadata": {
        "colab": {
          "base_uri": "https://localhost:8080/"
        },
        "id": "Kr8qMyvnSx_C",
        "outputId": "4e6a08a1-c2a6-48fe-e237-d943fff5135b"
      },
      "execution_count": null,
      "outputs": [
        {
          "output_type": "stream",
          "name": "stdout",
          "text": [
            "몇 월입니까?: 13\n",
            "13월은 없는 달입니다.\n"
          ]
        }
      ]
    }
  ]
}