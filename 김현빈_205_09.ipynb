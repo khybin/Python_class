{
  "nbformat": 4,
  "nbformat_minor": 0,
  "metadata": {
    "colab": {
      "provenance": []
    },
    "kernelspec": {
      "name": "python3",
      "display_name": "Python 3"
    },
    "language_info": {
      "name": "python"
    }
  },
  "cells": [
    {
      "cell_type": "code",
      "execution_count": null,
      "metadata": {
        "id": "YxlGTx4tM2IB",
        "colab": {
          "base_uri": "https://localhost:8080/"
        },
        "outputId": "835b6cf8-3ecd-417c-8a54-03aabbae256b"
      },
      "outputs": [
        {
          "output_type": "stream",
          "name": "stdout",
          "text": [
            "apple\n",
            "orange\n",
            "banana\n"
          ]
        }
      ],
      "source": [
        "fruits = ['apple', 'orange', 'banana']\n",
        "for fruit in fruits :\n",
        "    print(fruit)"
      ]
    },
    {
      "cell_type": "code",
      "source": [
        "s = \"Hello\"\n",
        "for i in s :\n",
        "    print(i)"
      ],
      "metadata": {
        "colab": {
          "base_uri": "https://localhost:8080/"
        },
        "id": "wkiJhdRpPlAc",
        "outputId": "a300b914-6eb1-4b55-8c23-a995b69c6391"
      },
      "execution_count": null,
      "outputs": [
        {
          "output_type": "stream",
          "name": "stdout",
          "text": [
            "H\n",
            "e\n",
            "l\n",
            "l\n",
            "o\n"
          ]
        }
      ]
    },
    {
      "cell_type": "code",
      "source": [
        "colors = ['빨간색', '파란색', '노란색', '초록색']\n",
        "for color in colors :\n",
        "    print(\"나는 %s을 좋아한다\" %(color))"
      ],
      "metadata": {
        "colab": {
          "base_uri": "https://localhost:8080/"
        },
        "id": "6f-BL1xIPqo8",
        "outputId": "fc07ca5f-dc5c-4159-a896-d197fc13082d"
      },
      "execution_count": null,
      "outputs": [
        {
          "output_type": "stream",
          "name": "stdout",
          "text": [
            "나는 빨간색을 좋아한다\n",
            "나는 파란색을 좋아한다\n",
            "나는 노란색을 좋아한다\n",
            "나는 초록색을 좋아한다\n"
          ]
        }
      ]
    },
    {
      "cell_type": "code",
      "source": [
        "numbers = [7, 9, 15, 18, 30, -3, 7, 12, -16, -12]\n",
        "sum = 0\n",
        "for number in numbers :\n",
        "    sum = sum + number\n",
        "print(\"합계 :\", sum)"
      ],
      "metadata": {
        "colab": {
          "base_uri": "https://localhost:8080/"
        },
        "id": "fL9tKHW6QAn3",
        "outputId": "db769f5d-621d-4c04-d954-66819493a2f2"
      },
      "execution_count": null,
      "outputs": [
        {
          "output_type": "stream",
          "name": "stdout",
          "text": [
            "합계 : 67\n"
          ]
        }
      ]
    },
    {
      "cell_type": "code",
      "source": [
        "score = [1, 3, 5, 7, 9, 11, 13]\n",
        "cnt = 0\n",
        "for num in score :\n",
        "    if num < 10 :\n",
        "        cnt+=1\n",
        "        print(num, end = ' ')\n",
        "print('\\n10보다 작은 수의 개수 :', cnt)"
      ],
      "metadata": {
        "colab": {
          "base_uri": "https://localhost:8080/"
        },
        "id": "_NJF0RKBQumG",
        "outputId": "2fa842b1-f169-42b1-ac41-537004cea78a"
      },
      "execution_count": null,
      "outputs": [
        {
          "output_type": "stream",
          "name": "stdout",
          "text": [
            "1 3 5 7 9 \n",
            "10보다 작은 수의 개수 : 5\n"
          ]
        }
      ]
    },
    {
      "cell_type": "code",
      "source": [
        "questions = ['tr_in', 'b_s', '_axi', 'air_lane']\n",
        "answer = ['a', 'u', 't', 'p']\n",
        "count = 0\n",
        "for i in range(4) :\n",
        "    q = '%s 에서 밑줄(_) 안에 들어갈 알파벳은? ' %(questions[i])\n",
        "    ans = input(q)\n",
        "    if ans == answer[i] :\n",
        "        print('정답입니다!')\n",
        "        count +=1\n",
        "    else :\n",
        "        print('틀렸습니다!')\n",
        "print(\"당신의 점수는 %d/4 입니다.\" %(count))"
      ],
      "metadata": {
        "colab": {
          "base_uri": "https://localhost:8080/"
        },
        "id": "qIkDEXx2RLdN",
        "outputId": "4912a0e4-a24b-4346-aeb6-ae41c9493900"
      },
      "execution_count": null,
      "outputs": [
        {
          "output_type": "stream",
          "name": "stdout",
          "text": [
            "tr_in 에서 밑줄(_) 안에 들어갈 알파벳은? a\n",
            "정답입니다!\n",
            "b_s 에서 밑줄(_) 안에 들어갈 알파벳은? i\n",
            "틀렸습니다!\n",
            "_axi 에서 밑줄(_) 안에 들어갈 알파벳은? t\n",
            "정답입니다!\n",
            "air_lane 에서 밑줄(_) 안에 들어갈 알파벳은? p\n",
            "정답입니다!\n",
            "당신의 점수는 3/4 입니다.\n"
          ]
        }
      ]
    },
    {
      "cell_type": "code",
      "source": [
        "score = []\n",
        "for i in range(5) :\n",
        "    score.append(int(input('성적입력: ')))\n",
        "sum = 0\n",
        "for s in score :\n",
        "    sum += s\n",
        "print(score)\n",
        "print('총점은 %d이고 평균은 %.1f입니다.' %(sum, (sum/5.0)))"
      ],
      "metadata": {
        "colab": {
          "base_uri": "https://localhost:8080/"
        },
        "id": "4B2vX56xS0AI",
        "outputId": "c59fa7f1-faa0-4d17-a2ce-3017fc763cb0"
      },
      "execution_count": null,
      "outputs": [
        {
          "output_type": "stream",
          "name": "stdout",
          "text": [
            "성적입력: 59\n",
            "성적입력: 66\n",
            "성적입력: 76\n",
            "성적입력: 82\n",
            "성적입력: 79\n",
            "[59, 66, 76, 82, 79]\n",
            "총점은 362이고 평균은 72.4입니다.\n"
          ]
        }
      ]
    },
    {
      "cell_type": "code",
      "source": [
        "numbers = [7, 9, 15, 18, 30, -3, 7, 12, -16, -12]\n",
        "\n",
        "sum = 0\n",
        "i = 0\n",
        "print(\"짝수 번째 요소 : \", end = '')\n",
        "\n",
        "while i < len(numbers) :\n",
        "    if i % 2 != 0 :\n",
        "        print(numbers[i], end = ' ')\n",
        "        sum += numbers[i]\n",
        "    i+=1\n",
        "print('\\n합계 : ', sum)"
      ],
      "metadata": {
        "colab": {
          "base_uri": "https://localhost:8080/"
        },
        "id": "cn59PRGWUYqt",
        "outputId": "f1e04fa9-f8f9-4f22-a2a4-411c0b952151"
      },
      "execution_count": null,
      "outputs": [
        {
          "output_type": "stream",
          "name": "stdout",
          "text": [
            "짝수 번째 요소 : 9 18 -3 12 -12 \n",
            "합계 :  24\n"
          ]
        }
      ]
    },
    {
      "cell_type": "code",
      "source": [
        "s = [64, 89, 100, 85, 77, 58, 79, 67, 96, 87, 87, 36, 82, 98, 84, 76, 63, 69, 53, 22]\n",
        "\n",
        "soo = 0\n",
        "woo = 0\n",
        "mi = 0\n",
        "yang = 0\n",
        "ga = 0\n",
        "\n",
        "i = 0\n",
        "while i < len(s) :\n",
        "    if s[i] >= 90 :\n",
        "        soo +=1\n",
        "    elif s[i] >= 80 :\n",
        "        woo +=1\n",
        "    elif s[i] >= 70 :\n",
        "        mi +=1\n",
        "    elif s[i] >= 60 :\n",
        "        yang +=1\n",
        "    else :\n",
        "        ga +=1\n",
        "    i+=1\n",
        "print(\"수 : %d명\" %(soo))\n",
        "print(\"우 : %d명\" %(woo))\n",
        "print(\"미 : %d명\" %(mi))\n",
        "print(\"양 : %d명\" %(yang))\n",
        "print(\"가 : %d명\" %(ga))"
      ],
      "metadata": {
        "colab": {
          "base_uri": "https://localhost:8080/"
        },
        "id": "1q3QeSo6WJex",
        "outputId": "41fac266-0b15-4c54-ff36-ae941c56edaa"
      },
      "execution_count": null,
      "outputs": [
        {
          "output_type": "stream",
          "name": "stdout",
          "text": [
            "수 : 3명\n",
            "우 : 6명\n",
            "미 : 3명\n",
            "양 : 4명\n",
            "가 : 4명\n"
          ]
        }
      ]
    },
    {
      "cell_type": "code",
      "source": [
        "[2 * n for n in range(1, 11)]"
      ],
      "metadata": {
        "colab": {
          "base_uri": "https://localhost:8080/"
        },
        "id": "czSWOQlnf3-t",
        "outputId": "71488672-05c6-400c-9d2a-41da0d666236"
      },
      "execution_count": null,
      "outputs": [
        {
          "output_type": "execute_result",
          "data": {
            "text/plain": [
              "[2, 4, 6, 8, 10, 12, 14, 16, 18, 20]"
            ]
          },
          "metadata": {},
          "execution_count": 42
        }
      ]
    },
    {
      "cell_type": "markdown",
      "source": [
        "[ 수식 for 변수 in 리스트 if 조건 ]"
      ],
      "metadata": {
        "id": "Q8sThQ_igU5j"
      }
    },
    {
      "cell_type": "code",
      "source": [
        "even1 = [even1 for even1 in range(1, 101) if even1%2 == 0]\n",
        "even2 = [2 * even2 for even2 in range(1, 51)]\n",
        "print(even1)\n",
        "print(even2)"
      ],
      "metadata": {
        "colab": {
          "base_uri": "https://localhost:8080/"
        },
        "id": "_Wi4FPQigfIG",
        "outputId": "e5852cec-6bae-4e90-be0e-6c8f4ed32f67"
      },
      "execution_count": null,
      "outputs": [
        {
          "output_type": "stream",
          "name": "stdout",
          "text": [
            "[2, 4, 6, 8, 10, 12, 14, 16, 18, 20, 22, 24, 26, 28, 30, 32, 34, 36, 38, 40, 42, 44, 46, 48, 50, 52, 54, 56, 58, 60, 62, 64, 66, 68, 70, 72, 74, 76, 78, 80, 82, 84, 86, 88, 90, 92, 94, 96, 98, 100]\n",
            "[2, 4, 6, 8, 10, 12, 14, 16, 18, 20, 22, 24, 26, 28, 30, 32, 34, 36, 38, 40, 42, 44, 46, 48, 50, 52, 54, 56, 58, 60, 62, 64, 66, 68, 70, 72, 74, 76, 78, 80, 82, 84, 86, 88, 90, 92, 94, 96, 98, 100]\n"
          ]
        }
      ]
    },
    {
      "cell_type": "code",
      "source": [
        "# ex48)\n",
        "li = []\n",
        "for n in range(1, 10) :\n",
        "    if n%3 == 0 :\n",
        "        li.append(n*n)\n",
        "print(li)"
      ],
      "metadata": {
        "colab": {
          "base_uri": "https://localhost:8080/"
        },
        "id": "oZLcfdnTh_Kc",
        "outputId": "dc562028-31e9-44ba-9ec5-651279c4a576"
      },
      "execution_count": null,
      "outputs": [
        {
          "output_type": "stream",
          "name": "stdout",
          "text": [
            "[9, 36, 81]\n"
          ]
        }
      ]
    },
    {
      "cell_type": "code",
      "source": [
        "# ex49)\n",
        "numbers = [1,2,3,4,5]\n",
        "result = [2 * n for n in numbers if n % 2 == 1]\n",
        "print(result)"
      ],
      "metadata": {
        "colab": {
          "base_uri": "https://localhost:8080/"
        },
        "id": "4Ky7IBaOirPr",
        "outputId": "7f845632-0c8b-4c5c-a513-b671d8ea6f2f"
      },
      "execution_count": null,
      "outputs": [
        {
          "output_type": "stream",
          "name": "stdout",
          "text": [
            "[2, 6, 10]\n"
          ]
        }
      ]
    },
    {
      "cell_type": "code",
      "source": [
        "# ex1)\n",
        "v = [17, 92, 18, 33, 58, 7, 33, 42]\n",
        "\n",
        "max = v[0]\n",
        "for i in v :\n",
        "    if max < i :\n",
        "        max = i\n",
        "print(\"최대값 = \", max)"
      ],
      "metadata": {
        "colab": {
          "base_uri": "https://localhost:8080/"
        },
        "id": "4xWVR5r4jKYS",
        "outputId": "e9cf1021-6f63-492d-e7f2-a7f2e0f56ce2"
      },
      "execution_count": null,
      "outputs": [
        {
          "output_type": "stream",
          "name": "stdout",
          "text": [
            "최대값 =  92\n"
          ]
        }
      ]
    },
    {
      "cell_type": "code",
      "source": [
        "# ex2)\n",
        "for i in [1, 2, 3] :\n",
        "    for j in ['a', 'b', 'c'] :\n",
        "        print(j * i, end = ' ')"
      ],
      "metadata": {
        "colab": {
          "base_uri": "https://localhost:8080/"
        },
        "id": "l-zxYDS9jscl",
        "outputId": "dfb95014-878a-4ff1-f8d2-d75f7d46d025"
      },
      "execution_count": null,
      "outputs": [
        {
          "output_type": "stream",
          "name": "stdout",
          "text": [
            "a b c aa bb cc aaa bbb ccc "
          ]
        }
      ]
    },
    {
      "cell_type": "code",
      "source": [
        "# ex3)\n",
        "list_a = [\"I\", \"study\", \"python\", \"language\", \"!\"]\n",
        "\n",
        "for i in range(len(list_a)) :\n",
        "    if len(list_a[i]) >= 3 :\n",
        "        print(list_a[i])"
      ],
      "metadata": {
        "colab": {
          "base_uri": "https://localhost:8080/"
        },
        "id": "FUnjGdv_kWC6",
        "outputId": "4654ebeb-5f75-4c1c-cf4a-4ae67018847c"
      },
      "execution_count": null,
      "outputs": [
        {
          "output_type": "stream",
          "name": "stdout",
          "text": [
            "study\n",
            "python\n",
            "language\n"
          ]
        }
      ]
    },
    {
      "cell_type": "code",
      "source": [
        "numbers = [[10, 20, 30], [40, 50, 60]]\n",
        "\n",
        "print(numbers[0])\n",
        "print(numbers[1])\n",
        "\n",
        "print(*numbers[0])\n",
        "print(*numbers[1])"
      ],
      "metadata": {
        "colab": {
          "base_uri": "https://localhost:8080/"
        },
        "id": "q_2bTbL9aUZx",
        "outputId": "49d42f78-822e-481b-cc6c-466ec26d1a6b"
      },
      "execution_count": null,
      "outputs": [
        {
          "output_type": "stream",
          "name": "stdout",
          "text": [
            "[10, 20, 30]\n",
            "[40, 50, 60]\n",
            "10 20 30\n",
            "40 50 60\n"
          ]
        }
      ]
    },
    {
      "cell_type": "code",
      "source": [
        "numbers = [[10, 20, 30], [40, 50, 60, 70, 80]]\n",
        "print(*numbers[0])\n",
        "print(*numbers[1])"
      ],
      "metadata": {
        "colab": {
          "base_uri": "https://localhost:8080/"
        },
        "id": "iaMoVX5rbfLe",
        "outputId": "b1de27e2-63ef-46b4-9b14-27e7065de246"
      },
      "execution_count": null,
      "outputs": [
        {
          "output_type": "stream",
          "name": "stdout",
          "text": [
            "10 20 30\n",
            "40 50 60 70 80\n"
          ]
        }
      ]
    },
    {
      "cell_type": "code",
      "source": [
        "for sub in numbers :\n",
        "    for number in sub :\n",
        "        print(number, end =' ')\n",
        "    print()"
      ],
      "metadata": {
        "colab": {
          "base_uri": "https://localhost:8080/"
        },
        "id": "Q0KgnRdgdrtk",
        "outputId": "ae1dfb52-b187-4349-8115-047554ac1ada"
      },
      "execution_count": null,
      "outputs": [
        {
          "output_type": "stream",
          "name": "stdout",
          "text": [
            "10 20 30 \n",
            "40 50 60 70 80 \n"
          ]
        }
      ]
    },
    {
      "cell_type": "code",
      "source": [
        "data = [[10, 20], [30, 40], [50, 60], [70, 80]]\n",
        "\n",
        "for i in range(4) :\n",
        "    for j in range(2) :\n",
        "        print(\"data[%d][%d] = %d\" %(i, j, data[i][j]))"
      ],
      "metadata": {
        "colab": {
          "base_uri": "https://localhost:8080/"
        },
        "id": "korPNk4md_IK",
        "outputId": "fca6fa63-fe8c-4c1c-9801-ebd9c95a7c1c"
      },
      "execution_count": null,
      "outputs": [
        {
          "output_type": "stream",
          "name": "stdout",
          "text": [
            "data[0][0] = 10\n",
            "data[0][1] = 20\n",
            "data[1][0] = 30\n",
            "data[1][1] = 40\n",
            "data[2][0] = 50\n",
            "data[2][1] = 60\n",
            "data[3][0] = 70\n",
            "data[3][1] = 80\n"
          ]
        }
      ]
    },
    {
      "cell_type": "code",
      "source": [
        "strings = [[\"원두커피\", \"라떼\", '콜라'], [\"우동\", \"국수\", \"피자\", \"파스타\"]]\n",
        "\n",
        "for i in strings :\n",
        "    for j in i :\n",
        "        print(j, end =' ')\n",
        "    print()"
      ],
      "metadata": {
        "colab": {
          "base_uri": "https://localhost:8080/"
        },
        "id": "MQfJHRAQfmtz",
        "outputId": "b63aa75f-639f-4070-e808-bd3f5bb6f069"
      },
      "execution_count": null,
      "outputs": [
        {
          "output_type": "stream",
          "name": "stdout",
          "text": [
            "원두커피 라떼 콜라 \n",
            "우동 국수 피자 파스타 \n"
          ]
        }
      ]
    },
    {
      "cell_type": "code",
      "source": [
        "data = [[10, 20, 30], [40, 50], [60, 70, 80, 90]]\n",
        "print(data)\n",
        "\n",
        "for i in data :\n",
        "    for j in range(len(i)) :\n",
        "        if j == 0 :\n",
        "            print(i[j])"
      ],
      "metadata": {
        "colab": {
          "base_uri": "https://localhost:8080/"
        },
        "id": "tXZDkFyNqNTy",
        "outputId": "7501db8e-d9fa-4f79-c66f-9ebb8a444f25"
      },
      "execution_count": null,
      "outputs": [
        {
          "output_type": "stream",
          "name": "stdout",
          "text": [
            "[[10, 20, 30], [40, 50], [60, 70, 80, 90]]\n",
            "10\n",
            "40\n",
            "60\n"
          ]
        }
      ]
    },
    {
      "cell_type": "code",
      "source": [
        "# ex42)\n",
        "score = [[88, 76, 92, 98], [65, 70, 58, 82], [82, 80, 78, 88]]\n",
        "total = 0\n",
        "totalsub = 0\n",
        "\n",
        "for i in score :\n",
        "    total = 0\n",
        "    avg = 0\n",
        "    for j in i :\n",
        "        total += j\n",
        "        totalsub += j\n",
        "    print('총점 %d 평균 %.2f' %(total, (total/4)))\n",
        "print(totalsub/12.0)"
      ],
      "metadata": {
        "colab": {
          "base_uri": "https://localhost:8080/"
        },
        "id": "-_t4JZh5rXxn",
        "outputId": "1c366fcd-d70c-4ba9-b2b5-57d15ad9d9a8"
      },
      "execution_count": null,
      "outputs": [
        {
          "output_type": "stream",
          "name": "stdout",
          "text": [
            "총점 354 평균 88.50\n",
            "총점 275 평균 68.75\n",
            "총점 328 평균 82.00\n",
            "79.75\n"
          ]
        }
      ]
    },
    {
      "cell_type": "code",
      "source": [
        "# ex43)\n",
        "seats = [[0, 0, 0, 0, 0, 0, 0, 0, 0, 0], [0, 0, 0, 0, 0, 0, 0, 0, 0, 0], [0, 0, 0, 0, 0, 0, 0, 0, 0, 0], [1, 1, 1, 0, 0, 0, 0, 0, 1, 0], [0, 0, 0, 0, 0, 1, 0, 0, 0, 0], [0, 1, 0, 0, 0, 1, 0, 1, 0, 0], [0, 0, 0, 0, 0, 0, 1, 0, 0, 0], [1, 0, 1, 0, 0, 0, 0, 0, 0, 1]]\n",
        "\n",
        "for i in range(8) :\n",
        "    for j in range(10) :\n",
        "        if seats[i][j] == 0 :\n",
        "            print('%3s' %('□'), end = '')\n",
        "        else :\n",
        "            print('%3s' %('■'), end = '')\n",
        "    print()\n",
        "print('\\n※ 예약 가능 : ■, 예약 불가 : □')"
      ],
      "metadata": {
        "colab": {
          "base_uri": "https://localhost:8080/"
        },
        "id": "UGJH8WQxuVWK",
        "outputId": "b456f60e-42cc-484a-9ae3-b50542bb69a2"
      },
      "execution_count": null,
      "outputs": [
        {
          "output_type": "stream",
          "name": "stdout",
          "text": [
            "  □  □  □  □  □  □  □  □  □  □\n",
            "  □  □  □  □  □  □  □  □  □  □\n",
            "  □  □  □  □  □  □  □  □  □  □\n",
            "  ■  ■  ■  □  □  □  □  □  ■  □\n",
            "  □  □  □  □  □  ■  □  □  □  □\n",
            "  □  ■  □  □  □  ■  □  ■  □  □\n",
            "  □  □  □  □  □  □  ■  □  □  □\n",
            "  ■  □  ■  □  □  □  □  □  □  ■\n",
            "\n",
            "※ 예약 가능 : ■, 예약 불가 : □\n"
          ]
        }
      ]
    },
    {
      "cell_type": "code",
      "source": [
        "# ex44)\n",
        "scores = [[96, 84, 80], [96, 86, 76], [76, 95, 83], [89, 96, 69], [83, 86, 79], [85, 90, 83]]\n",
        "\n",
        "i = 0\n",
        "sum = 0\n",
        "while i < len(scores) :\n",
        "    j = 0\n",
        "    sum = 0\n",
        "    while j < 3 :\n",
        "        sum += scores\n",
        "    print('%d번째 학생의 합계 : %d, 평균 : %.2f' %((i+1), sum, sum/3))\n"
      ],
      "metadata": {
        "colab": {
          "base_uri": "https://localhost:8080/",
          "height": 229
        },
        "id": "9es9qjOzxat0",
        "outputId": "cfe37c37-5227-4b40-ce10-e514f9c29a88"
      },
      "execution_count": null,
      "outputs": [
        {
          "output_type": "error",
          "ename": "TypeError",
          "evalue": "ignored",
          "traceback": [
            "\u001b[0;31m---------------------------------------------------------------------------\u001b[0m",
            "\u001b[0;31mTypeError\u001b[0m                                 Traceback (most recent call last)",
            "\u001b[0;32m<ipython-input-89-62f2e53d0c63>\u001b[0m in \u001b[0;36m<cell line: 6>\u001b[0;34m()\u001b[0m\n\u001b[1;32m      8\u001b[0m     \u001b[0msum\u001b[0m \u001b[0;34m=\u001b[0m \u001b[0;36m0\u001b[0m\u001b[0;34m\u001b[0m\u001b[0;34m\u001b[0m\u001b[0m\n\u001b[1;32m      9\u001b[0m     \u001b[0;32mwhile\u001b[0m \u001b[0mj\u001b[0m \u001b[0;34m<\u001b[0m \u001b[0;36m3\u001b[0m \u001b[0;34m:\u001b[0m\u001b[0;34m\u001b[0m\u001b[0;34m\u001b[0m\u001b[0m\n\u001b[0;32m---> 10\u001b[0;31m         \u001b[0msum\u001b[0m \u001b[0;34m+=\u001b[0m \u001b[0mscores\u001b[0m\u001b[0;34m\u001b[0m\u001b[0;34m\u001b[0m\u001b[0m\n\u001b[0m\u001b[1;32m     11\u001b[0m     \u001b[0mprint\u001b[0m\u001b[0;34m(\u001b[0m\u001b[0;34m'%d번째 학생의 합계 : %d, 평균 : %.2f'\u001b[0m \u001b[0;34m%\u001b[0m\u001b[0;34m(\u001b[0m\u001b[0;34m(\u001b[0m\u001b[0mi\u001b[0m\u001b[0;34m+\u001b[0m\u001b[0;36m1\u001b[0m\u001b[0;34m)\u001b[0m\u001b[0;34m,\u001b[0m \u001b[0msum\u001b[0m\u001b[0;34m,\u001b[0m \u001b[0msum\u001b[0m\u001b[0;34m/\u001b[0m\u001b[0;36m3\u001b[0m\u001b[0;34m)\u001b[0m\u001b[0;34m)\u001b[0m\u001b[0;34m\u001b[0m\u001b[0;34m\u001b[0m\u001b[0m\n",
            "\u001b[0;31mTypeError\u001b[0m: unsupported operand type(s) for +=: 'int' and 'list'"
          ]
        }
      ]
    }
  ]
}