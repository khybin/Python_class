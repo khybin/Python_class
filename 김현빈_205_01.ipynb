{
  "nbformat": 4,
  "nbformat_minor": 0,
  "metadata": {
    "colab": {
      "provenance": [],
      "include_colab_link": true
    },
    "kernelspec": {
      "name": "python3",
      "display_name": "Python 3"
    },
    "language_info": {
      "name": "python"
    }
  },
  "cells": [
    {
      "cell_type": "markdown",
      "metadata": {
        "id": "view-in-github",
        "colab_type": "text"
      },
      "source": [
        "<a href=\"https://colab.research.google.com/github/khybin/Python_class/blob/master/%EA%B9%80%ED%98%84%EB%B9%88_205_01.ipynb\" target=\"_parent\"><img src=\"https://colab.research.google.com/assets/colab-badge.svg\" alt=\"Open In Colab\"/></a>"
      ]
    },
    {
      "cell_type": "code",
      "source": [
        "\n",
        "print(\"Hello, World!\")"
      ],
      "metadata": {
        "id": "eaDqIY6EtvyM",
        "colab": {
          "base_uri": "https://localhost:8080/"
        },
        "outputId": "7e8468b9-2163-4929-b0b2-592eac062f97"
      },
      "execution_count": null,
      "outputs": [
        {
          "output_type": "stream",
          "name": "stdout",
          "text": [
            "Hello, World!\n"
          ]
        }
      ]
    },
    {
      "cell_type": "code",
      "source": [
        "print(3 + 4)"
      ],
      "metadata": {
        "colab": {
          "base_uri": "https://localhost:8080/"
        },
        "id": "Kvfdq6HN5iJN",
        "outputId": "cf1d5fbb-d6c2-4257-9741-038c9e2aa7ca"
      },
      "execution_count": null,
      "outputs": [
        {
          "output_type": "stream",
          "name": "stdout",
          "text": [
            "7\n"
          ]
        }
      ]
    },
    {
      "cell_type": "code",
      "source": [
        "value = 1234\n",
        "print(value)\n",
        "print(value + 100)"
      ],
      "metadata": {
        "colab": {
          "base_uri": "https://localhost:8080/"
        },
        "id": "bgX7Tif15qky",
        "outputId": "87e81644-1462-48e8-e3a8-015d8da037fa"
      },
      "execution_count": null,
      "outputs": [
        {
          "output_type": "stream",
          "name": "stdout",
          "text": [
            "1234\n",
            "1334\n"
          ]
        }
      ]
    },
    {
      "cell_type": "code",
      "source": [
        "print(3 + 4)\n",
        "4 * 5\n",
        "a = 1\n",
        "b = 2\n",
        "print(a + b)"
      ],
      "metadata": {
        "colab": {
          "base_uri": "https://localhost:8080/"
        },
        "id": "gX3GKPLI5wi2",
        "outputId": "bc227bf3-f8a5-4584-cd4b-6190467c16bf"
      },
      "execution_count": null,
      "outputs": [
        {
          "output_type": "stream",
          "name": "stdout",
          "text": [
            "7\n",
            "3\n"
          ]
        }
      ]
    },
    {
      "cell_type": "code",
      "source": [
        "a = '고양이'\n",
        "b = '강아지'\n",
        "print(a)\n",
        "print(b)"
      ],
      "metadata": {
        "colab": {
          "base_uri": "https://localhost:8080/"
        },
        "id": "XZFy0ISJvn7O",
        "outputId": "4ba7b1f9-d188-466c-e9e1-787758044005"
      },
      "execution_count": null,
      "outputs": [
        {
          "output_type": "stream",
          "name": "stdout",
          "text": [
            "고양이\n",
            "강아지\n"
          ]
        }
      ]
    },
    {
      "cell_type": "code",
      "source": [
        "print(\"*       *\")\n",
        "print(\" *     *\")\n",
        "print(\"  *   *\")\n",
        "print(\"   * *\")\n",
        "print(\"    *\")"
      ],
      "metadata": {
        "colab": {
          "base_uri": "https://localhost:8080/"
        },
        "id": "UMnKTmQ7v_CF",
        "outputId": "a4d6af7a-703c-4db7-db8f-5034a9bb57e2"
      },
      "execution_count": null,
      "outputs": [
        {
          "output_type": "stream",
          "name": "stdout",
          "text": [
            "*       *\n",
            " *     *\n",
            "  *   *\n",
            "   * *\n",
            "    *\n"
          ]
        }
      ]
    },
    {
      "cell_type": "code",
      "source": [
        "a = '강아지'\n",
        "b = '고양이'\n",
        "print(a, end = '')\n",
        "print(b)"
      ],
      "metadata": {
        "colab": {
          "base_uri": "https://localhost:8080/"
        },
        "id": "1g51U6bYws-d",
        "outputId": "e298b79d-9810-4477-cc89-4f1805352bde"
      },
      "execution_count": null,
      "outputs": [
        {
          "output_type": "stream",
          "name": "stdout",
          "text": [
            "강아지고양이\n"
          ]
        }
      ]
    },
    {
      "cell_type": "code",
      "source": [
        "print(34, end = '^^')\n",
        "print(78)"
      ],
      "metadata": {
        "colab": {
          "base_uri": "https://localhost:8080/"
        },
        "id": "OA1RvvK7xIVI",
        "outputId": "57330191-3985-4915-f6b1-f108d8981601"
      },
      "execution_count": null,
      "outputs": [
        {
          "output_type": "stream",
          "name": "stdout",
          "text": [
            "34^^78\n"
          ]
        }
      ]
    },
    {
      "cell_type": "code",
      "source": [
        "a = 12\n",
        "b = 34\n",
        "print(a, b)"
      ],
      "metadata": {
        "colab": {
          "base_uri": "https://localhost:8080/"
        },
        "id": "ROCfXrxDxSMz",
        "outputId": "a5dbe417-6feb-4851-b38c-c4c1ce397276"
      },
      "execution_count": null,
      "outputs": [
        {
          "output_type": "stream",
          "name": "stdout",
          "text": [
            "12 34\n"
          ]
        }
      ]
    },
    {
      "cell_type": "code",
      "source": [
        "a = 12\n",
        "b = 34\n",
        "print(a, b, sep = ',')"
      ],
      "metadata": {
        "colab": {
          "base_uri": "https://localhost:8080/"
        },
        "id": "TRk-gffD1DoZ",
        "outputId": "b34d9a5b-5d36-4fc0-fb72-3a48cecd01ae"
      },
      "execution_count": null,
      "outputs": [
        {
          "output_type": "stream",
          "name": "stdout",
          "text": [
            "12,34\n"
          ]
        }
      ]
    },
    {
      "cell_type": "code",
      "source": [
        "s = '서울'\n",
        "d = '대전'\n",
        "g = '대구'\n",
        "b = '부산'\n",
        "print(s, d, g, b, sep = ' 찍고 ')"
      ],
      "metadata": {
        "colab": {
          "base_uri": "https://localhost:8080/"
        },
        "id": "Dox37cqJ1W4N",
        "outputId": "a3ffab38-5ca9-43d0-e0ed-2da233e427e2"
      },
      "execution_count": null,
      "outputs": [
        {
          "output_type": "stream",
          "name": "stdout",
          "text": [
            "서울 찍고 대전 찍고 대구 찍고 부산\n"
          ]
        }
      ]
    },
    {
      "cell_type": "code",
      "source": [
        "print(12, 34, 56, sep = '^^', end = '-->')\n",
        "print(78)"
      ],
      "metadata": {
        "colab": {
          "base_uri": "https://localhost:8080/"
        },
        "id": "hh6iHlBx1tUm",
        "outputId": "83ecb861-5079-4217-ce20-33d44ff5b351"
      },
      "execution_count": null,
      "outputs": [
        {
          "output_type": "stream",
          "name": "stdout",
          "text": [
            "12^^34^^56-->78\n"
          ]
        }
      ]
    },
    {
      "cell_type": "code",
      "source": [
        "a = 13\n",
        "b = 21\n",
        "print(a, b)\n",
        "print(a + b)\n",
        "print(a, b, sep = '')\n",
        "print(a, b, end = '')"
      ],
      "metadata": {
        "colab": {
          "base_uri": "https://localhost:8080/"
        },
        "id": "Jlqh23OZ2AaR",
        "outputId": "9e8bb694-705a-4ac2-88ff-96eb080587ca"
      },
      "execution_count": null,
      "outputs": [
        {
          "output_type": "stream",
          "name": "stdout",
          "text": [
            "13 21\n",
            "34\n",
            "1321\n",
            "13 21"
          ]
        }
      ]
    },
    {
      "cell_type": "code",
      "source": [
        "age = input('몇 살이세요?')\n",
        "print(age)"
      ],
      "metadata": {
        "colab": {
          "base_uri": "https://localhost:8080/"
        },
        "id": "dAwemseP2fq8",
        "outputId": "3733a5ee-09fd-438c-ec05-032fd0cd8eb0"
      },
      "execution_count": null,
      "outputs": [
        {
          "output_type": "stream",
          "name": "stdout",
          "text": [
            "몇 살이세요?18\n",
            "18\n"
          ]
        }
      ]
    },
    {
      "cell_type": "code",
      "source": [
        "name = input('이름을 입력하세요: ')\n",
        "print('안녕하세요', name, '님!')"
      ],
      "metadata": {
        "colab": {
          "base_uri": "https://localhost:8080/"
        },
        "id": "Qw68G_fz3AoO",
        "outputId": "164acfdd-791d-4f0e-d516-6345ac184f2b"
      },
      "execution_count": null,
      "outputs": [
        {
          "output_type": "stream",
          "name": "stdout",
          "text": [
            "이름을 입력하세요: 현빈\n",
            "안녕하세요 현빈 님!\n"
          ]
        }
      ]
    },
    {
      "cell_type": "code",
      "source": [
        "a = input('첫 번째 과일을 입력: ')\n",
        "b = input('두 번째 과일을 입력: ')\n",
        "print(a, '와(과)', b, '은(는) 내가 좋아하는 과일이다')"
      ],
      "metadata": {
        "colab": {
          "base_uri": "https://localhost:8080/"
        },
        "id": "LbWIhej34M7O",
        "outputId": "86bb906b-ca18-4992-938a-9320fbcb2cc0"
      },
      "execution_count": null,
      "outputs": [
        {
          "output_type": "stream",
          "name": "stdout",
          "text": [
            "첫 번째 과일을 입력: 사과\n",
            "두 번째 과일을 입력: 수박\n",
            "사과 와(과) 수박 은(는) 내가 좋아하는 과일이다\n"
          ]
        }
      ]
    },
    {
      "cell_type": "code",
      "source": [
        "year = input('몇 년도? ')\n",
        "month = input('몇 월? ')\n",
        "day = input('몇 일? ')\n",
        "print(year, month, day, sep = ' . ')"
      ],
      "metadata": {
        "colab": {
          "base_uri": "https://localhost:8080/"
        },
        "id": "weq0F_Wm46N-",
        "outputId": "ef4cd8ca-8029-4319-9b8d-340d15d882de"
      },
      "execution_count": null,
      "outputs": [
        {
          "output_type": "stream",
          "name": "stdout",
          "text": [
            "몇 년도? 2021\n",
            "몇 월? 12\n",
            "몇 일? 25\n",
            "2021 . 12 . 25\n"
          ]
        }
      ]
    },
    {
      "cell_type": "code",
      "source": [
        "age = input('몇 살이세요? ')\n",
        "print(age + age)"
      ],
      "metadata": {
        "colab": {
          "base_uri": "https://localhost:8080/"
        },
        "id": "7pIP3B7A5R5e",
        "outputId": "c7605418-d0c4-4d8e-ab1c-fac6c9beb047"
      },
      "execution_count": null,
      "outputs": [
        {
          "output_type": "stream",
          "name": "stdout",
          "text": [
            "몇 살이세요? 18\n",
            "1818\n"
          ]
        }
      ]
    }
  ]
}